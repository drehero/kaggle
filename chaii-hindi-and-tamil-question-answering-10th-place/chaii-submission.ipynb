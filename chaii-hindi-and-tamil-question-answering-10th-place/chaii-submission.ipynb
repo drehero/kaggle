{
 "cells": [
  {
   "cell_type": "code",
   "execution_count": 1,
   "id": "e3505954",
   "metadata": {
    "execution": {
     "iopub.execute_input": "2021-11-13T10:24:57.330066Z",
     "iopub.status.busy": "2021-11-13T10:24:57.329557Z",
     "iopub.status.idle": "2021-11-13T10:25:30.145658Z",
     "shell.execute_reply": "2021-11-13T10:25:30.146102Z",
     "shell.execute_reply.started": "2021-11-13T10:01:09.325712Z"
    },
    "papermill": {
     "duration": 32.839663,
     "end_time": "2021-11-13T10:25:30.146420",
     "exception": false,
     "start_time": "2021-11-13T10:24:57.306757",
     "status": "completed"
    },
    "tags": []
   },
   "outputs": [],
   "source": [
    "!pip install -U --no-build-isolation --no-deps ../input/transformers-master/ -qq"
   ]
  },
  {
   "cell_type": "code",
   "execution_count": 2,
   "id": "4c012ade",
   "metadata": {
    "execution": {
     "iopub.execute_input": "2021-11-13T10:25:30.172468Z",
     "iopub.status.busy": "2021-11-13T10:25:30.171641Z",
     "iopub.status.idle": "2021-11-13T10:26:04.930963Z",
     "shell.execute_reply": "2021-11-13T10:26:04.930128Z",
     "shell.execute_reply.started": "2021-11-13T10:01:39.611605Z"
    },
    "papermill": {
     "duration": 34.774334,
     "end_time": "2021-11-13T10:26:04.931100",
     "exception": false,
     "start_time": "2021-11-13T10:25:30.156766",
     "status": "completed"
    },
    "tags": []
   },
   "outputs": [],
   "source": [
    "import gc\n",
    "import itertools\n",
    "import pathlib\n",
    "\n",
    "import pandas as pd\n",
    "import numpy as np\n",
    "import tensorflow as tf\n",
    "\n",
    "import transformers\n",
    "\n",
    "from chaii_config import *\n",
    "from chaii_utils import *\n",
    "from chaii_models import *"
   ]
  },
  {
   "cell_type": "code",
   "execution_count": 3,
   "id": "7837f374",
   "metadata": {
    "execution": {
     "iopub.execute_input": "2021-11-13T10:26:04.956101Z",
     "iopub.status.busy": "2021-11-13T10:26:04.955589Z",
     "iopub.status.idle": "2021-11-13T10:26:04.992487Z",
     "shell.execute_reply": "2021-11-13T10:26:04.992890Z",
     "shell.execute_reply.started": "2021-11-13T10:02:18.416281Z"
    },
    "papermill": {
     "duration": 0.051928,
     "end_time": "2021-11-13T10:26:04.993028",
     "exception": false,
     "start_time": "2021-11-13T10:26:04.941100",
     "status": "completed"
    },
    "tags": []
   },
   "outputs": [
    {
     "data": {
      "text/html": [
       "<div>\n",
       "<style scoped>\n",
       "    .dataframe tbody tr th:only-of-type {\n",
       "        vertical-align: middle;\n",
       "    }\n",
       "\n",
       "    .dataframe tbody tr th {\n",
       "        vertical-align: top;\n",
       "    }\n",
       "\n",
       "    .dataframe thead th {\n",
       "        text-align: right;\n",
       "    }\n",
       "</style>\n",
       "<table border=\"1\" class=\"dataframe\">\n",
       "  <thead>\n",
       "    <tr style=\"text-align: right;\">\n",
       "      <th></th>\n",
       "      <th>id</th>\n",
       "      <th>context</th>\n",
       "      <th>question</th>\n",
       "      <th>language</th>\n",
       "    </tr>\n",
       "  </thead>\n",
       "  <tbody>\n",
       "    <tr>\n",
       "      <th>0</th>\n",
       "      <td>22bff3dec</td>\n",
       "      <td>ज्वाला गुट्टा (जन्म: 7 सितंबर 1983; वर्धा, महा...</td>\n",
       "      <td>ज्वाला गुट्टा की माँ का नाम क्या है</td>\n",
       "      <td>hindi</td>\n",
       "    </tr>\n",
       "    <tr>\n",
       "      <th>1</th>\n",
       "      <td>282758170</td>\n",
       "      <td>गूगल मानचित्र (Google Maps) (पूर्व में गूगल लो...</td>\n",
       "      <td>गूगल मैप्स कब लॉन्च किया गया था?</td>\n",
       "      <td>hindi</td>\n",
       "    </tr>\n",
       "    <tr>\n",
       "      <th>2</th>\n",
       "      <td>d60987e0e</td>\n",
       "      <td>गुस्ताव रॉबर्ट किरचॉफ़ (१२ मार्च १८२४ - १७ अक्...</td>\n",
       "      <td>गुस्ताव किरचॉफ का जन्म कब हुआ था?</td>\n",
       "      <td>hindi</td>\n",
       "    </tr>\n",
       "    <tr>\n",
       "      <th>3</th>\n",
       "      <td>f99c770dc</td>\n",
       "      <td>அலுமினியம் (ஆங்கிலம்: அலுமினியம்; வட அமெரிக்க ...</td>\n",
       "      <td>அலுமினியத்தின் அணு எண் என்ன?</td>\n",
       "      <td>tamil</td>\n",
       "    </tr>\n",
       "    <tr>\n",
       "      <th>4</th>\n",
       "      <td>40dec1964</td>\n",
       "      <td>கூட்டுறவு இயக்க வரலாறு, இங்கிலாந்து  நாட்டில் ...</td>\n",
       "      <td>இந்தியாவில் பசுமை புரட்சியின் தந்தை என்று கருத...</td>\n",
       "      <td>tamil</td>\n",
       "    </tr>\n",
       "  </tbody>\n",
       "</table>\n",
       "</div>"
      ],
      "text/plain": [
       "          id                                            context  \\\n",
       "0  22bff3dec  ज्वाला गुट्टा (जन्म: 7 सितंबर 1983; वर्धा, महा...   \n",
       "1  282758170  गूगल मानचित्र (Google Maps) (पूर्व में गूगल लो...   \n",
       "2  d60987e0e  गुस्ताव रॉबर्ट किरचॉफ़ (१२ मार्च १८२४ - १७ अक्...   \n",
       "3  f99c770dc  அலுமினியம் (ஆங்கிலம்: அலுமினியம்; வட அமெரிக்க ...   \n",
       "4  40dec1964  கூட்டுறவு இயக்க வரலாறு, இங்கிலாந்து  நாட்டில் ...   \n",
       "\n",
       "                                            question language  \n",
       "0                ज्वाला गुट्टा की माँ का नाम क्या है    hindi  \n",
       "1                   गूगल मैप्स कब लॉन्च किया गया था?    hindi  \n",
       "2                  गुस्ताव किरचॉफ का जन्म कब हुआ था?    hindi  \n",
       "3                       அலுமினியத்தின் அணு எண் என்ன?    tamil  \n",
       "4  இந்தியாவில் பசுமை புரட்சியின் தந்தை என்று கருத...    tamil  "
      ]
     },
     "execution_count": 3,
     "metadata": {},
     "output_type": "execute_result"
    }
   ],
   "source": [
    "test_df = pd.read_csv(INPUT_DIR / \"chaii-hindi-and-tamil-question-answering/test.csv\")\n",
    "test_df"
   ]
  },
  {
   "cell_type": "code",
   "execution_count": 4,
   "id": "d9dcae5b",
   "metadata": {
    "execution": {
     "iopub.execute_input": "2021-11-13T10:26:05.024772Z",
     "iopub.status.busy": "2021-11-13T10:26:05.023830Z",
     "iopub.status.idle": "2021-11-13T10:43:41.179829Z",
     "shell.execute_reply": "2021-11-13T10:43:41.179279Z",
     "shell.execute_reply.started": "2021-11-13T10:02:18.487511Z"
    },
    "papermill": {
     "duration": 1056.177152,
     "end_time": "2021-11-13T10:43:41.180919",
     "exception": false,
     "start_time": "2021-11-13T10:26:05.003767",
     "status": "completed"
    },
    "tags": []
   },
   "outputs": [
    {
     "name": "stdout",
     "output_type": "stream",
     "text": [
      "== Making predictions for model xlm-roberta-large ==\n",
      "Fold 1/5\n",
      "Fold 2/5\n",
      "Fold 3/5\n",
      "Fold 4/5\n",
      "Fold 5/5\n",
      "== Making predictions for model muril-large-cased ==\n",
      "Fold 1/5\n",
      "Fold 2/5\n",
      "Fold 3/5\n",
      "Fold 4/5\n",
      "Fold 5/5\n"
     ]
    }
   ],
   "source": [
    "raw_predictions = {}\n",
    "tokenized_features = {}\n",
    "for model_config in [XLM_ROBERTA_CONFIG, MURIL_CONFIG]:#, REMBERT_CONFIG]:\n",
    "    print(f\"== Making predictions for model {model_config['model_name']} ==\")\n",
    "    # Load tokenizer\n",
    "    tokenizer_path = f\"/kaggle/usr/lib/chaii_models/{model_config['model_name']}-tokenizer\"\n",
    "    if model_config[\"model_type\"] == \"bert\":\n",
    "        tokenizer = transformers.BertTokenizerFast.from_pretrained(tokenizer_path)\n",
    "    elif model_config[\"model_type\"] == \"xlm_roberta\":\n",
    "        tokenizer = transformers.XLMRobertaTokenizerFast.from_pretrained(tokenizer_path)\n",
    "    elif model_config[\"model_type\"] == \"rembert\":\n",
    "        tokenizer = transformers.RemBertTokenizerFast.from_pretrained(tokenizer_path)\n",
    "    # Create Features\n",
    "    test_features = prepare_validation_features(test_df, tokenizer, model_config)\n",
    "    X_test = create_model_input(test_features, is_train=False)\n",
    "    tokenized_features[model_config[\"model_name\"]] = test_features\n",
    "    del(tokenizer)\n",
    "    gc.collect()\n",
    "    # Make predictions\n",
    "    raw_predictions_model = {}\n",
    "    for fold in range(N_FOLDS):\n",
    "        print(f\"Fold {fold+1}/{N_FOLDS}\")\n",
    "        if model_config[\"model_name\"] == \"xlm-roberta-large\":\n",
    "            model_path = INPUT_DIR / f\"xlm-roberta-large-squad2-f{fold}/xlm-roberta-f{fold}\"\n",
    "            model = tf.keras.models.load_model(model_path)\n",
    "        elif model_config[\"model_name\"] == \"muril-large-cased\":\n",
    "            model_path = INPUT_DIR / f\"{model_config['model_name']}-f{fold}/{model_config['model_name']}-f{fold}\"\n",
    "            model = tf.keras.models.load_model(model_path)\n",
    "        elif model_config[\"model_name\"] == \"rembert\":\n",
    "            #load weights\n",
    "            model_path = f\"/kaggle/usr/lib/chaii_models/{model_config['model_name']}-model\"\n",
    "            weights_path = INPUT_DIR / f\"{model_config['model_name']}-weights-f{fold}/{model_config['model_name']}-weights-f{fold}\"\n",
    "            model = tf.keras.models.load_model(model_path, custom_objects={'TFRemBertMainLayer': transformers.TFRemBertForQuestionAnswering})\n",
    "            model.load_weights(weights_path)\n",
    "        raw_predictions_model[fold] = model.predict(X_test)\n",
    "        del(model)\n",
    "        gc.collect()\n",
    "    raw_predictions[model_config[\"model_name\"]] = raw_predictions_model"
   ]
  },
  {
   "cell_type": "code",
   "execution_count": 5,
   "id": "02d863bd",
   "metadata": {
    "execution": {
     "iopub.execute_input": "2021-11-13T10:43:41.230123Z",
     "iopub.status.busy": "2021-11-13T10:43:41.229273Z",
     "iopub.status.idle": "2021-11-13T10:43:41.475951Z",
     "shell.execute_reply": "2021-11-13T10:43:41.475462Z",
     "shell.execute_reply.started": "2021-11-13T10:22:36.776082Z"
    },
    "papermill": {
     "duration": 0.280513,
     "end_time": "2021-11-13T10:43:41.476106",
     "exception": false,
     "start_time": "2021-11-13T10:43:41.195593",
     "status": "completed"
    },
    "tags": []
   },
   "outputs": [
    {
     "data": {
      "text/plain": [
       "20"
      ]
     },
     "execution_count": 5,
     "metadata": {},
     "output_type": "execute_result"
    }
   ],
   "source": [
    "raw_preds = {}\n",
    "\n",
    "for model_name, fold_preds in raw_predictions.items():\n",
    "    start_logits, end_logits = fold_preds[0]\n",
    "    for f in range(1, N_FOLDS):\n",
    "        start_logits += fold_preds[f][0]\n",
    "        end_logits += fold_preds[f][1]\n",
    "    start_logits /= N_FOLDS\n",
    "    end_logits /= N_FOLDS\n",
    "    raw_preds[model_name] = [start_logits, end_logits]\n",
    "    \n",
    "del(raw_predictions, raw_predictions_model)\n",
    "gc.collect()"
   ]
  },
  {
   "cell_type": "code",
   "execution_count": 6,
   "id": "5ceefff4",
   "metadata": {
    "execution": {
     "iopub.execute_input": "2021-11-13T10:43:41.522012Z",
     "iopub.status.busy": "2021-11-13T10:43:41.521283Z",
     "iopub.status.idle": "2021-11-13T10:43:41.525003Z",
     "shell.execute_reply": "2021-11-13T10:43:41.524576Z",
     "shell.execute_reply.started": "2021-11-13T10:22:40.407957Z"
    },
    "papermill": {
     "duration": 0.033456,
     "end_time": "2021-11-13T10:43:41.525109",
     "exception": false,
     "start_time": "2021-11-13T10:43:41.491653",
     "status": "completed"
    },
    "tags": []
   },
   "outputs": [
    {
     "data": {
      "text/plain": [
       "{'xlm-roberta-large': [array([[ 2.73534  , -7.989061 , -7.4293213, ..., -6.5310655, -7.915436 ,\n",
       "          -9.432802 ],\n",
       "         [ 5.638371 , -7.211671 , -7.719264 , ..., -5.976297 , -8.313581 ,\n",
       "          -9.472136 ],\n",
       "         [ 5.667095 , -7.2166014, -8.010153 , ..., -9.786278 , -9.786278 ,\n",
       "          -9.786278 ],\n",
       "         ...,\n",
       "         [ 6.1071744, -7.7549467, -7.116937 , ..., -6.6521273, -9.648048 ,\n",
       "          -9.053851 ],\n",
       "         [ 6.285781 , -7.6651063, -6.63576  , ..., -4.6240473, -9.275125 ,\n",
       "          -9.361959 ],\n",
       "         [ 5.8782253, -8.234912 , -7.5576897, ..., -9.451858 , -9.451858 ,\n",
       "          -9.451858 ]], dtype=float32),\n",
       "  array([[ 3.9319954, -6.267231 , -8.383825 , ..., -4.3164663, -5.9400883,\n",
       "          -7.5676546],\n",
       "         [ 7.035922 , -5.720683 , -8.732808 , ..., -6.381985 , -6.20816  ,\n",
       "          -7.9365225],\n",
       "         [ 7.101883 , -5.776944 , -8.952247 , ..., -8.749241 , -8.749241 ,\n",
       "          -8.749241 ],\n",
       "         ...,\n",
       "         [ 7.488763 , -7.49389  , -8.425776 , ..., -7.363603 , -6.2983613,\n",
       "          -7.1007476],\n",
       "         [ 7.477565 , -7.1939507, -8.175451 , ..., -6.08007  , -5.903045 ,\n",
       "          -7.956005 ],\n",
       "         [ 7.020761 , -7.213515 , -8.712315 , ..., -8.446849 , -8.446849 ,\n",
       "          -8.446849 ]], dtype=float32)],\n",
       " 'muril-large-cased': [array([[ 6.749849  , -1.3274829 , -3.0428479 , ..., -4.6171656 ,\n",
       "          -2.0058239 ,  6.7498484 ],\n",
       "         [ 8.906229  , -1.4776033 , -3.3557613 , ..., -2.838097  ,\n",
       "          -2.7299104 , -2.7592425 ],\n",
       "         [ 5.5302696 , -0.3174662 , -3.3103652 , ..., -4.4834013 ,\n",
       "          -1.8570745 ,  5.53027   ],\n",
       "         ...,\n",
       "         [ 7.9072866 , -0.49621367, -1.4613538 , ..., -5.019241  ,\n",
       "          -2.8734703 ,  7.9072876 ],\n",
       "         [ 9.073944  , -0.4550798 , -1.1378722 , ..., -2.0449762 ,\n",
       "          -3.7399955 ,  9.073944  ],\n",
       "         [ 9.106982  ,  0.39768577, -0.37539965, ..., -5.0938826 ,\n",
       "          -2.6124957 , -2.6611233 ]], dtype=float32),\n",
       "  array([[ 6.007993 , -3.924422 , -4.485209 , ..., -2.520684 , -3.6786797,\n",
       "           6.0079927],\n",
       "         [ 8.198011 , -3.8841767, -4.483382 , ..., -3.7754426, -3.7429001,\n",
       "          -3.8310494],\n",
       "         [ 4.8257065, -2.8841615, -5.095922 , ..., -1.752642 , -2.9741664,\n",
       "           4.825707 ],\n",
       "         ...,\n",
       "         [ 6.9622436, -2.934178 , -3.6491177, ..., -3.7487702, -2.400117 ,\n",
       "           6.9622436],\n",
       "         [ 8.246221 , -2.9261346, -3.260337 , ..., -4.290183 , -2.1098125,\n",
       "           8.246219 ],\n",
       "         [ 8.34996  , -2.0228508, -2.4898255, ..., -5.44608  , -3.5190568,\n",
       "          -3.5018528]], dtype=float32)]}"
      ]
     },
     "execution_count": 6,
     "metadata": {},
     "output_type": "execute_result"
    }
   ],
   "source": [
    "raw_preds"
   ]
  },
  {
   "cell_type": "code",
   "execution_count": 7,
   "id": "4a946cbf",
   "metadata": {
    "execution": {
     "iopub.execute_input": "2021-11-13T10:43:41.568935Z",
     "iopub.status.busy": "2021-11-13T10:43:41.567661Z",
     "iopub.status.idle": "2021-11-13T10:43:41.570405Z",
     "shell.execute_reply": "2021-11-13T10:43:41.569969Z",
     "shell.execute_reply.started": "2021-11-13T10:22:41.798099Z"
    },
    "papermill": {
     "duration": 0.031186,
     "end_time": "2021-11-13T10:43:41.570518",
     "exception": false,
     "start_time": "2021-11-13T10:43:41.539332",
     "status": "completed"
    },
    "tags": []
   },
   "outputs": [],
   "source": [
    "def postprocess_predictions(examples_df, tokenized_features, raw_predictions, tokenizer, verbose=True):\n",
    "    examples = examples_df.copy().reset_index(drop=True)\n",
    "    all_start_probs, all_end_probs = raw_predictions\n",
    "    \n",
    "    # Map examples to its corresponding features\n",
    "    example_id_to_index = {k: i for i, k in enumerate(examples[\"id\"])}\n",
    "    features_per_example = collections.defaultdict(list)\n",
    "    for i, example_id in enumerate(tokenized_features[\"example_id\"]):\n",
    "        features_per_example[example_id_to_index[example_id]].append(i)    \n",
    "    predictions = collections.OrderedDict()\n",
    "    \n",
    "    if verbose:\n",
    "        print(f\"Post-processing {examples.shape[0]} example predictions split into {len(tokenized_features['example_id'])} features.\")\n",
    "    for example_index, example in (tqdm(examples.iterrows(), total=examples.shape[0]) if verbose else examples.iterrows()):\n",
    "        feature_indices = features_per_example[example_index]\n",
    "        \n",
    "        #min_null_score = None\n",
    "        valid_answers = []\n",
    "        \n",
    "        context = example[\"context\"]\n",
    "        # Loop over all features associated with the example\n",
    "        for feature_index in feature_indices:\n",
    "            start_probs = all_start_probs[feature_index]\n",
    "            end_probs = all_end_probs[feature_index]\n",
    "            \n",
    "            offset_mapping = tokenized_features[\"offset_mapping\"][feature_index]\n",
    "            \n",
    "            # Update minimum null prediction\n",
    "            #cls_index = tokenized_features[\"input_ids\"][feature_index].index(tokenizer.cls_token_id)\n",
    "            #feature_null_score = start_probs[cls_index] + end_probs[cls_index]\n",
    "            #if min_null_score is None or min_null_score < feature_null_score:\n",
    "            #    min_null_score = feature_null_score\n",
    "            \n",
    "            # Go through all possibilities for the N_BEST_SIZE greater start and end probs\n",
    "            start_indices = np.argsort(start_probs)[-1: -N_BEST_SIZE-1: -1].tolist()\n",
    "            end_indices = np.argsort(end_probs)[-1: -N_BEST_SIZE-1: -1].tolist()\n",
    "            for start_index in start_indices:\n",
    "                for end_index in end_indices:\n",
    "                    # Dont consider out of scope indices, either because the indices are out of bounds or\n",
    "                    # correspond to part of the input_ids that are not in the context\n",
    "                    if (\n",
    "                        start_index >= len(offset_mapping)\n",
    "                        or end_index >= len(offset_mapping)\n",
    "                        or offset_mapping[start_index] is None\n",
    "                        or offset_mapping[end_index] is None\n",
    "                    ):\n",
    "                        continue\n",
    "                    # Dont consider answers with length < 0 or > MAX_ANSWER_LENGTH\n",
    "                    if end_index < start_index or end_index - start_index + 1 > MAX_ANSWER_LENGTH:\n",
    "                        continue\n",
    "                    \n",
    "                    start_char = offset_mapping[start_index][0]\n",
    "                    end_char = offset_mapping[end_index][1]\n",
    "                    \n",
    "                    \n",
    "                    text = context[start_char: end_char].strip()\n",
    "                    \n",
    "                    \n",
    "                    \n",
    "                    valid_answers.append(\n",
    "                        {\n",
    "                            \"score\": start_probs[start_index] + end_probs[end_index],\n",
    "                            \"text\": context[start_char: end_char].strip(),\n",
    "                        }\n",
    "                    )\n",
    "            \n",
    "        if len(valid_answers) == 0:\n",
    "            valid_answers.append({\"score\": 0.0, \"text\": \"\"})\n",
    "        \n",
    "        #if not SQUAD_V2:\n",
    "        predictions[example[\"id\"]] = valid_answers\n",
    "        #else:\n",
    "        #    anwer = best_answer[\"text\"] if best_answer[\"score\"] > min_null_score else \"\"\n",
    "        #    predictions[example[\"id\"]] = answer\n",
    "            \n",
    "    return predictions"
   ]
  },
  {
   "cell_type": "code",
   "execution_count": 8,
   "id": "50a58485",
   "metadata": {
    "execution": {
     "iopub.execute_input": "2021-11-13T10:43:41.609880Z",
     "iopub.status.busy": "2021-11-13T10:43:41.609075Z",
     "iopub.status.idle": "2021-11-13T10:43:41.611924Z",
     "shell.execute_reply": "2021-11-13T10:43:41.611493Z",
     "shell.execute_reply.started": "2021-11-13T10:22:43.244490Z"
    },
    "papermill": {
     "duration": 0.027605,
     "end_time": "2021-11-13T10:43:41.612027",
     "exception": false,
     "start_time": "2021-11-13T10:43:41.584422",
     "status": "completed"
    },
    "tags": []
   },
   "outputs": [],
   "source": [
    "def clean_predictions(model_predictions, test_data, n=20):\n",
    "    bad_starts = [\".\", \",\", \"(\", \")\", \"-\", \"–\",  \",\", \";\"]\n",
    "    bad_endings = [\"...\", \"-\", \"(\", \")\", \"–\", \",\", \";\"]\n",
    "\n",
    "    tamil_ad = \"கி.பி\"\n",
    "    tamil_bc = \"கி.மு\"\n",
    "    tamil_km = \"கி.மீ\"\n",
    "    hindi_ad = \"ई\"\n",
    "    hindi_bc = \"ई.पू\"\n",
    "    \n",
    "    cleaned_predictions = collections.OrderedDict()\n",
    "    \n",
    "    for example_id in model_predictions:\n",
    "        # keep only the top n predictions\n",
    "        top_preds = sorted(model_predictions[example_id], key=lambda x: x[\"score\"], reverse=True)[:n]\n",
    "        context = test_data[test_data[\"id\"] == example_id].values[0]\n",
    "        cleaned_preds = []\n",
    "        for prediction in top_preds:\n",
    "            pred = prediction[\"text\"]\n",
    "            score = prediction[\"score\"]\n",
    "            if pred == \"\":\n",
    "                cleaned_preds.append(prediction)\n",
    "                continue\n",
    "            while any([pred.startswith(y) for y in bad_starts]):\n",
    "                pred = pred[1:]\n",
    "            while any([pred.endswith(y) for y in bad_endings]):\n",
    "                if pred.endswith(\"...\"):\n",
    "                    pred = pred[:-3]\n",
    "                else:\n",
    "                    pred = pred[:-1]\n",
    "            if pred.endswith(\"...\"):\n",
    "                    pred = pred[:-3]\n",
    "                    \n",
    "            if any([pred.endswith(tamil_ad), pred.endswith(tamil_bc), pred.endswith(tamil_km), pred.endswith(hindi_ad), pred.endswith(hindi_bc)]) and pred+\".\" in context:\n",
    "                pred = pred+\".\"\n",
    "                \n",
    "            cleaned_preds.append({\"text\": pred, \"score\": score})\n",
    "                \n",
    "        cleaned_predictions[example_id] = cleaned_preds\n",
    "    \n",
    "    return cleaned_predictions"
   ]
  },
  {
   "cell_type": "code",
   "execution_count": 9,
   "id": "05d1ff1b",
   "metadata": {
    "execution": {
     "iopub.execute_input": "2021-11-13T10:43:41.652206Z",
     "iopub.status.busy": "2021-11-13T10:43:41.651640Z",
     "iopub.status.idle": "2021-11-13T10:43:42.076613Z",
     "shell.execute_reply": "2021-11-13T10:43:42.077615Z",
     "shell.execute_reply.started": "2021-11-13T10:22:45.196645Z"
    },
    "papermill": {
     "duration": 0.451845,
     "end_time": "2021-11-13T10:43:42.077821",
     "exception": false,
     "start_time": "2021-11-13T10:43:41.625976",
     "status": "completed"
    },
    "tags": []
   },
   "outputs": [
    {
     "name": "stdout",
     "output_type": "stream",
     "text": [
      "Post-processing 5 example predictions split into 67 features.\n"
     ]
    },
    {
     "data": {
      "application/vnd.jupyter.widget-view+json": {
       "model_id": "b4045e4ee0d4499cbb5060a9b292ed40",
       "version_major": 2,
       "version_minor": 0
      },
      "text/plain": [
       "  0%|          | 0/5 [00:00<?, ?it/s]"
      ]
     },
     "metadata": {},
     "output_type": "display_data"
    },
    {
     "name": "stdout",
     "output_type": "stream",
     "text": [
      "Post-processing 5 example predictions split into 52 features.\n"
     ]
    },
    {
     "data": {
      "application/vnd.jupyter.widget-view+json": {
       "model_id": "c5d0e0ce159e46ee99bf6c53236f3177",
       "version_major": 2,
       "version_minor": 0
      },
      "text/plain": [
       "  0%|          | 0/5 [00:00<?, ?it/s]"
      ]
     },
     "metadata": {},
     "output_type": "display_data"
    },
    {
     "data": {
      "text/plain": [
       "0"
      ]
     },
     "execution_count": 9,
     "metadata": {},
     "output_type": "execute_result"
    }
   ],
   "source": [
    "n = 20\n",
    "predictions = {}\n",
    "\n",
    "for model_name in raw_preds:\n",
    "    preds = postprocess_predictions(test_df, tokenized_features[model_name], raw_preds[model_name], tokenizer=None, verbose=True)\n",
    "    predictions[model_name] = clean_predictions(preds, test_df, n)\n",
    "    \n",
    "del(raw_preds, tokenized_features)\n",
    "gc.collect()"
   ]
  },
  {
   "cell_type": "code",
   "execution_count": 10,
   "id": "954f62b7",
   "metadata": {
    "execution": {
     "iopub.execute_input": "2021-11-13T10:43:42.141512Z",
     "iopub.status.busy": "2021-11-13T10:43:42.140723Z",
     "iopub.status.idle": "2021-11-13T10:43:42.684600Z",
     "shell.execute_reply": "2021-11-13T10:43:42.683961Z",
     "shell.execute_reply.started": "2021-11-13T10:22:51.354153Z"
    },
    "papermill": {
     "duration": 0.581069,
     "end_time": "2021-11-13T10:43:42.684721",
     "exception": false,
     "start_time": "2021-11-13T10:43:42.103652",
     "status": "completed"
    },
    "tags": []
   },
   "outputs": [
    {
     "data": {
      "text/plain": [
       "{'22bff3dec': 'येलन',\n",
       " '282758170': '28 नवम्बर 2007',\n",
       " 'd60987e0e': '१२ मार्च १८२४',\n",
       " 'f99c770dc': '13',\n",
       " '40dec1964': 'சுவாமிநாதன்'}"
      ]
     },
     "execution_count": 10,
     "metadata": {},
     "output_type": "execute_result"
    }
   ],
   "source": [
    "best_preds = {}\n",
    "for model_name, model_preds in predictions.items():\n",
    "    best_preds[model_name] = {}\n",
    "    for id_, preds in model_preds.items():\n",
    "        best_preds[model_name][id_] = {pred[\"text\"]: i+1 for i, pred in enumerate(sorted(preds, key=lambda x: x[\"score\"], reverse=False)[-n:])}\n",
    "del(predictions)\n",
    "gc.collect()\n",
    "ensembled_preds = {}\n",
    "for id_ in test_df[\"id\"]:\n",
    "    all_preds = []\n",
    "    for model_name in best_preds:\n",
    "        all_preds += list(best_preds[model_name][id_].keys())\n",
    "    all_preds = list(set(all_preds))\n",
    "    pred_votes = collections.defaultdict(int)\n",
    "    for pred in all_preds:\n",
    "        for model_name in best_preds:\n",
    "            try:\n",
    "                pred_votes[pred] += best_preds[model_name][id_][pred]\n",
    "            except KeyError:\n",
    "                pass\n",
    "    ensembled_preds[id_] = sorted(pred_votes.items(), key=lambda x: x[1], reverse=True)[0][0]\n",
    "    \n",
    "del(all_preds, best_preds, pred_votes)\n",
    "gc.collect()\n",
    "\n",
    "ensembled_preds"
   ]
  },
  {
   "cell_type": "code",
   "execution_count": 11,
   "id": "18a9c1cc",
   "metadata": {
    "execution": {
     "iopub.execute_input": "2021-11-13T10:43:42.738891Z",
     "iopub.status.busy": "2021-11-13T10:43:42.738372Z",
     "iopub.status.idle": "2021-11-13T10:43:42.744096Z",
     "shell.execute_reply": "2021-11-13T10:43:42.743709Z",
     "shell.execute_reply.started": "2021-11-13T10:23:35.108647Z"
    },
    "papermill": {
     "duration": 0.043215,
     "end_time": "2021-11-13T10:43:42.744262",
     "exception": false,
     "start_time": "2021-11-13T10:43:42.701047",
     "status": "completed"
    },
    "tags": []
   },
   "outputs": [
    {
     "data": {
      "text/html": [
       "<div>\n",
       "<style scoped>\n",
       "    .dataframe tbody tr th:only-of-type {\n",
       "        vertical-align: middle;\n",
       "    }\n",
       "\n",
       "    .dataframe tbody tr th {\n",
       "        vertical-align: top;\n",
       "    }\n",
       "\n",
       "    .dataframe thead th {\n",
       "        text-align: right;\n",
       "    }\n",
       "</style>\n",
       "<table border=\"1\" class=\"dataframe\">\n",
       "  <thead>\n",
       "    <tr style=\"text-align: right;\">\n",
       "      <th></th>\n",
       "      <th>id</th>\n",
       "      <th>PredictionString</th>\n",
       "    </tr>\n",
       "  </thead>\n",
       "  <tbody>\n",
       "    <tr>\n",
       "      <th>0</th>\n",
       "      <td>22bff3dec</td>\n",
       "      <td>येलन</td>\n",
       "    </tr>\n",
       "    <tr>\n",
       "      <th>1</th>\n",
       "      <td>282758170</td>\n",
       "      <td>28 नवम्बर 2007</td>\n",
       "    </tr>\n",
       "    <tr>\n",
       "      <th>2</th>\n",
       "      <td>d60987e0e</td>\n",
       "      <td>१२ मार्च १८२४</td>\n",
       "    </tr>\n",
       "    <tr>\n",
       "      <th>3</th>\n",
       "      <td>f99c770dc</td>\n",
       "      <td>13</td>\n",
       "    </tr>\n",
       "    <tr>\n",
       "      <th>4</th>\n",
       "      <td>40dec1964</td>\n",
       "      <td>சுவாமிநாதன்</td>\n",
       "    </tr>\n",
       "  </tbody>\n",
       "</table>\n",
       "</div>"
      ],
      "text/plain": [
       "          id PredictionString\n",
       "0  22bff3dec             येलन\n",
       "1  282758170   28 नवम्बर 2007\n",
       "2  d60987e0e    १२ मार्च १८२४\n",
       "3  f99c770dc               13\n",
       "4  40dec1964      சுவாமிநாதன்"
      ]
     },
     "execution_count": 11,
     "metadata": {},
     "output_type": "execute_result"
    }
   ],
   "source": [
    "submission = pd.DataFrame(test_df[\"id\"])\n",
    "submission[\"PredictionString\"] = submission[\"id\"].apply(lambda x: ensembled_preds[x])\n",
    "submission"
   ]
  },
  {
   "cell_type": "code",
   "execution_count": 12,
   "id": "f14838e0",
   "metadata": {
    "execution": {
     "iopub.execute_input": "2021-11-13T10:43:42.780205Z",
     "iopub.status.busy": "2021-11-13T10:43:42.779679Z",
     "iopub.status.idle": "2021-11-13T10:43:42.790552Z",
     "shell.execute_reply": "2021-11-13T10:43:42.790100Z",
     "shell.execute_reply.started": "2021-11-13T10:23:41.889453Z"
    },
    "papermill": {
     "duration": 0.030184,
     "end_time": "2021-11-13T10:43:42.790662",
     "exception": false,
     "start_time": "2021-11-13T10:43:42.760478",
     "status": "completed"
    },
    "tags": []
   },
   "outputs": [],
   "source": [
    "submission.to_csv(\"submission.csv\", index=False)"
   ]
  }
 ],
 "metadata": {
  "kernelspec": {
   "display_name": "Python 3",
   "language": "python",
   "name": "python3"
  },
  "language_info": {
   "codemirror_mode": {
    "name": "ipython",
    "version": 3
   },
   "file_extension": ".py",
   "mimetype": "text/x-python",
   "name": "python",
   "nbconvert_exporter": "python",
   "pygments_lexer": "ipython3",
   "version": "3.9.4"
  },
  "papermill": {
   "default_parameters": {},
   "duration": 1135.915942,
   "end_time": "2021-11-13T10:43:46.311032",
   "environment_variables": {},
   "exception": null,
   "input_path": "__notebook__.ipynb",
   "output_path": "__notebook__.ipynb",
   "parameters": {},
   "start_time": "2021-11-13T10:24:50.395090",
   "version": "2.3.3"
  },
  "widgets": {
   "application/vnd.jupyter.widget-state+json": {
    "state": {
     "05798c5240c749d39bef259582dfd17e": {
      "model_module": "@jupyter-widgets/controls",
      "model_module_version": "1.5.0",
      "model_name": "ProgressStyleModel",
      "state": {
       "_model_module": "@jupyter-widgets/controls",
       "_model_module_version": "1.5.0",
       "_model_name": "ProgressStyleModel",
       "_view_count": null,
       "_view_module": "@jupyter-widgets/base",
       "_view_module_version": "1.2.0",
       "_view_name": "StyleView",
       "bar_color": null,
       "description_width": ""
      }
     },
     "110fd3c9a06a4abeaa292df319ee9436": {
      "model_module": "@jupyter-widgets/controls",
      "model_module_version": "1.5.0",
      "model_name": "DescriptionStyleModel",
      "state": {
       "_model_module": "@jupyter-widgets/controls",
       "_model_module_version": "1.5.0",
       "_model_name": "DescriptionStyleModel",
       "_view_count": null,
       "_view_module": "@jupyter-widgets/base",
       "_view_module_version": "1.2.0",
       "_view_name": "StyleView",
       "description_width": ""
      }
     },
     "16f2a98a213a4ecaa316dab8ccb26fea": {
      "model_module": "@jupyter-widgets/controls",
      "model_module_version": "1.5.0",
      "model_name": "HTMLModel",
      "state": {
       "_dom_classes": [],
       "_model_module": "@jupyter-widgets/controls",
       "_model_module_version": "1.5.0",
       "_model_name": "HTMLModel",
       "_view_count": null,
       "_view_module": "@jupyter-widgets/controls",
       "_view_module_version": "1.5.0",
       "_view_name": "HTMLView",
       "description": "",
       "description_tooltip": null,
       "layout": "IPY_MODEL_67739798fdee43ed997b4b483f1fa9f4",
       "placeholder": "​",
       "style": "IPY_MODEL_e5040b03359e47f1a2b8d467a88d3575",
       "value": "100%"
      }
     },
     "2b39923922f54effada152ec4e0d9f39": {
      "model_module": "@jupyter-widgets/controls",
      "model_module_version": "1.5.0",
      "model_name": "HTMLModel",
      "state": {
       "_dom_classes": [],
       "_model_module": "@jupyter-widgets/controls",
       "_model_module_version": "1.5.0",
       "_model_name": "HTMLModel",
       "_view_count": null,
       "_view_module": "@jupyter-widgets/controls",
       "_view_module_version": "1.5.0",
       "_view_name": "HTMLView",
       "description": "",
       "description_tooltip": null,
       "layout": "IPY_MODEL_7b89f4a9cd5c4800adb41a46cc51df88",
       "placeholder": "​",
       "style": "IPY_MODEL_94d9ea1714044cb7842b67b5bea934df",
       "value": "100%"
      }
     },
     "4ce224e130e04df892bd2175b3de70dc": {
      "model_module": "@jupyter-widgets/base",
      "model_module_version": "1.2.0",
      "model_name": "LayoutModel",
      "state": {
       "_model_module": "@jupyter-widgets/base",
       "_model_module_version": "1.2.0",
       "_model_name": "LayoutModel",
       "_view_count": null,
       "_view_module": "@jupyter-widgets/base",
       "_view_module_version": "1.2.0",
       "_view_name": "LayoutView",
       "align_content": null,
       "align_items": null,
       "align_self": null,
       "border": null,
       "bottom": null,
       "display": null,
       "flex": null,
       "flex_flow": null,
       "grid_area": null,
       "grid_auto_columns": null,
       "grid_auto_flow": null,
       "grid_auto_rows": null,
       "grid_column": null,
       "grid_gap": null,
       "grid_row": null,
       "grid_template_areas": null,
       "grid_template_columns": null,
       "grid_template_rows": null,
       "height": null,
       "justify_content": null,
       "justify_items": null,
       "left": null,
       "margin": null,
       "max_height": null,
       "max_width": null,
       "min_height": null,
       "min_width": null,
       "object_fit": null,
       "object_position": null,
       "order": null,
       "overflow": null,
       "overflow_x": null,
       "overflow_y": null,
       "padding": null,
       "right": null,
       "top": null,
       "visibility": null,
       "width": null
      }
     },
     "5e512fb9ffd14ef280f477a3cec61102": {
      "model_module": "@jupyter-widgets/base",
      "model_module_version": "1.2.0",
      "model_name": "LayoutModel",
      "state": {
       "_model_module": "@jupyter-widgets/base",
       "_model_module_version": "1.2.0",
       "_model_name": "LayoutModel",
       "_view_count": null,
       "_view_module": "@jupyter-widgets/base",
       "_view_module_version": "1.2.0",
       "_view_name": "LayoutView",
       "align_content": null,
       "align_items": null,
       "align_self": null,
       "border": null,
       "bottom": null,
       "display": null,
       "flex": null,
       "flex_flow": null,
       "grid_area": null,
       "grid_auto_columns": null,
       "grid_auto_flow": null,
       "grid_auto_rows": null,
       "grid_column": null,
       "grid_gap": null,
       "grid_row": null,
       "grid_template_areas": null,
       "grid_template_columns": null,
       "grid_template_rows": null,
       "height": null,
       "justify_content": null,
       "justify_items": null,
       "left": null,
       "margin": null,
       "max_height": null,
       "max_width": null,
       "min_height": null,
       "min_width": null,
       "object_fit": null,
       "object_position": null,
       "order": null,
       "overflow": null,
       "overflow_x": null,
       "overflow_y": null,
       "padding": null,
       "right": null,
       "top": null,
       "visibility": null,
       "width": null
      }
     },
     "5ed881572a694ad6aa44e27ca878c784": {
      "model_module": "@jupyter-widgets/controls",
      "model_module_version": "1.5.0",
      "model_name": "ProgressStyleModel",
      "state": {
       "_model_module": "@jupyter-widgets/controls",
       "_model_module_version": "1.5.0",
       "_model_name": "ProgressStyleModel",
       "_view_count": null,
       "_view_module": "@jupyter-widgets/base",
       "_view_module_version": "1.2.0",
       "_view_name": "StyleView",
       "bar_color": null,
       "description_width": ""
      }
     },
     "63bd02c8d46848f9b17216b0f7b83b81": {
      "model_module": "@jupyter-widgets/controls",
      "model_module_version": "1.5.0",
      "model_name": "HTMLModel",
      "state": {
       "_dom_classes": [],
       "_model_module": "@jupyter-widgets/controls",
       "_model_module_version": "1.5.0",
       "_model_name": "HTMLModel",
       "_view_count": null,
       "_view_module": "@jupyter-widgets/controls",
       "_view_module_version": "1.5.0",
       "_view_name": "HTMLView",
       "description": "",
       "description_tooltip": null,
       "layout": "IPY_MODEL_e4e330639f324ec2bd0a6cdea422ed16",
       "placeholder": "​",
       "style": "IPY_MODEL_110fd3c9a06a4abeaa292df319ee9436",
       "value": " 5/5 [00:00&lt;00:00, 137.87it/s]"
      }
     },
     "67739798fdee43ed997b4b483f1fa9f4": {
      "model_module": "@jupyter-widgets/base",
      "model_module_version": "1.2.0",
      "model_name": "LayoutModel",
      "state": {
       "_model_module": "@jupyter-widgets/base",
       "_model_module_version": "1.2.0",
       "_model_name": "LayoutModel",
       "_view_count": null,
       "_view_module": "@jupyter-widgets/base",
       "_view_module_version": "1.2.0",
       "_view_name": "LayoutView",
       "align_content": null,
       "align_items": null,
       "align_self": null,
       "border": null,
       "bottom": null,
       "display": null,
       "flex": null,
       "flex_flow": null,
       "grid_area": null,
       "grid_auto_columns": null,
       "grid_auto_flow": null,
       "grid_auto_rows": null,
       "grid_column": null,
       "grid_gap": null,
       "grid_row": null,
       "grid_template_areas": null,
       "grid_template_columns": null,
       "grid_template_rows": null,
       "height": null,
       "justify_content": null,
       "justify_items": null,
       "left": null,
       "margin": null,
       "max_height": null,
       "max_width": null,
       "min_height": null,
       "min_width": null,
       "object_fit": null,
       "object_position": null,
       "order": null,
       "overflow": null,
       "overflow_x": null,
       "overflow_y": null,
       "padding": null,
       "right": null,
       "top": null,
       "visibility": null,
       "width": null
      }
     },
     "6c5ee18800ff4efd92115d163d3daff4": {
      "model_module": "@jupyter-widgets/base",
      "model_module_version": "1.2.0",
      "model_name": "LayoutModel",
      "state": {
       "_model_module": "@jupyter-widgets/base",
       "_model_module_version": "1.2.0",
       "_model_name": "LayoutModel",
       "_view_count": null,
       "_view_module": "@jupyter-widgets/base",
       "_view_module_version": "1.2.0",
       "_view_name": "LayoutView",
       "align_content": null,
       "align_items": null,
       "align_self": null,
       "border": null,
       "bottom": null,
       "display": null,
       "flex": null,
       "flex_flow": null,
       "grid_area": null,
       "grid_auto_columns": null,
       "grid_auto_flow": null,
       "grid_auto_rows": null,
       "grid_column": null,
       "grid_gap": null,
       "grid_row": null,
       "grid_template_areas": null,
       "grid_template_columns": null,
       "grid_template_rows": null,
       "height": null,
       "justify_content": null,
       "justify_items": null,
       "left": null,
       "margin": null,
       "max_height": null,
       "max_width": null,
       "min_height": null,
       "min_width": null,
       "object_fit": null,
       "object_position": null,
       "order": null,
       "overflow": null,
       "overflow_x": null,
       "overflow_y": null,
       "padding": null,
       "right": null,
       "top": null,
       "visibility": null,
       "width": null
      }
     },
     "78dd2f413c134c078dfac1d81a8cf74f": {
      "model_module": "@jupyter-widgets/base",
      "model_module_version": "1.2.0",
      "model_name": "LayoutModel",
      "state": {
       "_model_module": "@jupyter-widgets/base",
       "_model_module_version": "1.2.0",
       "_model_name": "LayoutModel",
       "_view_count": null,
       "_view_module": "@jupyter-widgets/base",
       "_view_module_version": "1.2.0",
       "_view_name": "LayoutView",
       "align_content": null,
       "align_items": null,
       "align_self": null,
       "border": null,
       "bottom": null,
       "display": null,
       "flex": null,
       "flex_flow": null,
       "grid_area": null,
       "grid_auto_columns": null,
       "grid_auto_flow": null,
       "grid_auto_rows": null,
       "grid_column": null,
       "grid_gap": null,
       "grid_row": null,
       "grid_template_areas": null,
       "grid_template_columns": null,
       "grid_template_rows": null,
       "height": null,
       "justify_content": null,
       "justify_items": null,
       "left": null,
       "margin": null,
       "max_height": null,
       "max_width": null,
       "min_height": null,
       "min_width": null,
       "object_fit": null,
       "object_position": null,
       "order": null,
       "overflow": null,
       "overflow_x": null,
       "overflow_y": null,
       "padding": null,
       "right": null,
       "top": null,
       "visibility": null,
       "width": null
      }
     },
     "7b89f4a9cd5c4800adb41a46cc51df88": {
      "model_module": "@jupyter-widgets/base",
      "model_module_version": "1.2.0",
      "model_name": "LayoutModel",
      "state": {
       "_model_module": "@jupyter-widgets/base",
       "_model_module_version": "1.2.0",
       "_model_name": "LayoutModel",
       "_view_count": null,
       "_view_module": "@jupyter-widgets/base",
       "_view_module_version": "1.2.0",
       "_view_name": "LayoutView",
       "align_content": null,
       "align_items": null,
       "align_self": null,
       "border": null,
       "bottom": null,
       "display": null,
       "flex": null,
       "flex_flow": null,
       "grid_area": null,
       "grid_auto_columns": null,
       "grid_auto_flow": null,
       "grid_auto_rows": null,
       "grid_column": null,
       "grid_gap": null,
       "grid_row": null,
       "grid_template_areas": null,
       "grid_template_columns": null,
       "grid_template_rows": null,
       "height": null,
       "justify_content": null,
       "justify_items": null,
       "left": null,
       "margin": null,
       "max_height": null,
       "max_width": null,
       "min_height": null,
       "min_width": null,
       "object_fit": null,
       "object_position": null,
       "order": null,
       "overflow": null,
       "overflow_x": null,
       "overflow_y": null,
       "padding": null,
       "right": null,
       "top": null,
       "visibility": null,
       "width": null
      }
     },
     "94d9ea1714044cb7842b67b5bea934df": {
      "model_module": "@jupyter-widgets/controls",
      "model_module_version": "1.5.0",
      "model_name": "DescriptionStyleModel",
      "state": {
       "_model_module": "@jupyter-widgets/controls",
       "_model_module_version": "1.5.0",
       "_model_name": "DescriptionStyleModel",
       "_view_count": null,
       "_view_module": "@jupyter-widgets/base",
       "_view_module_version": "1.2.0",
       "_view_name": "StyleView",
       "description_width": ""
      }
     },
     "9e09d8a6d03d4dfe9344bcd8f594583a": {
      "model_module": "@jupyter-widgets/controls",
      "model_module_version": "1.5.0",
      "model_name": "HTMLModel",
      "state": {
       "_dom_classes": [],
       "_model_module": "@jupyter-widgets/controls",
       "_model_module_version": "1.5.0",
       "_model_name": "HTMLModel",
       "_view_count": null,
       "_view_module": "@jupyter-widgets/controls",
       "_view_module_version": "1.5.0",
       "_view_name": "HTMLView",
       "description": "",
       "description_tooltip": null,
       "layout": "IPY_MODEL_4ce224e130e04df892bd2175b3de70dc",
       "placeholder": "​",
       "style": "IPY_MODEL_d4c42c8de8a143a5bcd368e2b4aae030",
       "value": " 5/5 [00:00&lt;00:00, 112.20it/s]"
      }
     },
     "b4045e4ee0d4499cbb5060a9b292ed40": {
      "model_module": "@jupyter-widgets/controls",
      "model_module_version": "1.5.0",
      "model_name": "HBoxModel",
      "state": {
       "_dom_classes": [],
       "_model_module": "@jupyter-widgets/controls",
       "_model_module_version": "1.5.0",
       "_model_name": "HBoxModel",
       "_view_count": null,
       "_view_module": "@jupyter-widgets/controls",
       "_view_module_version": "1.5.0",
       "_view_name": "HBoxView",
       "box_style": "",
       "children": [
        "IPY_MODEL_16f2a98a213a4ecaa316dab8ccb26fea",
        "IPY_MODEL_b750f90c478b4138adb66d068162650d",
        "IPY_MODEL_9e09d8a6d03d4dfe9344bcd8f594583a"
       ],
       "layout": "IPY_MODEL_78dd2f413c134c078dfac1d81a8cf74f"
      }
     },
     "b750f90c478b4138adb66d068162650d": {
      "model_module": "@jupyter-widgets/controls",
      "model_module_version": "1.5.0",
      "model_name": "FloatProgressModel",
      "state": {
       "_dom_classes": [],
       "_model_module": "@jupyter-widgets/controls",
       "_model_module_version": "1.5.0",
       "_model_name": "FloatProgressModel",
       "_view_count": null,
       "_view_module": "@jupyter-widgets/controls",
       "_view_module_version": "1.5.0",
       "_view_name": "ProgressView",
       "bar_style": "success",
       "description": "",
       "description_tooltip": null,
       "layout": "IPY_MODEL_d3ead2a364484cc0b4496acdc796c4f9",
       "max": 5,
       "min": 0,
       "orientation": "horizontal",
       "style": "IPY_MODEL_5ed881572a694ad6aa44e27ca878c784",
       "value": 5
      }
     },
     "bfd539f2985847cd98dd8890509080a4": {
      "model_module": "@jupyter-widgets/controls",
      "model_module_version": "1.5.0",
      "model_name": "FloatProgressModel",
      "state": {
       "_dom_classes": [],
       "_model_module": "@jupyter-widgets/controls",
       "_model_module_version": "1.5.0",
       "_model_name": "FloatProgressModel",
       "_view_count": null,
       "_view_module": "@jupyter-widgets/controls",
       "_view_module_version": "1.5.0",
       "_view_name": "ProgressView",
       "bar_style": "success",
       "description": "",
       "description_tooltip": null,
       "layout": "IPY_MODEL_6c5ee18800ff4efd92115d163d3daff4",
       "max": 5,
       "min": 0,
       "orientation": "horizontal",
       "style": "IPY_MODEL_05798c5240c749d39bef259582dfd17e",
       "value": 5
      }
     },
     "c5d0e0ce159e46ee99bf6c53236f3177": {
      "model_module": "@jupyter-widgets/controls",
      "model_module_version": "1.5.0",
      "model_name": "HBoxModel",
      "state": {
       "_dom_classes": [],
       "_model_module": "@jupyter-widgets/controls",
       "_model_module_version": "1.5.0",
       "_model_name": "HBoxModel",
       "_view_count": null,
       "_view_module": "@jupyter-widgets/controls",
       "_view_module_version": "1.5.0",
       "_view_name": "HBoxView",
       "box_style": "",
       "children": [
        "IPY_MODEL_2b39923922f54effada152ec4e0d9f39",
        "IPY_MODEL_bfd539f2985847cd98dd8890509080a4",
        "IPY_MODEL_63bd02c8d46848f9b17216b0f7b83b81"
       ],
       "layout": "IPY_MODEL_5e512fb9ffd14ef280f477a3cec61102"
      }
     },
     "d3ead2a364484cc0b4496acdc796c4f9": {
      "model_module": "@jupyter-widgets/base",
      "model_module_version": "1.2.0",
      "model_name": "LayoutModel",
      "state": {
       "_model_module": "@jupyter-widgets/base",
       "_model_module_version": "1.2.0",
       "_model_name": "LayoutModel",
       "_view_count": null,
       "_view_module": "@jupyter-widgets/base",
       "_view_module_version": "1.2.0",
       "_view_name": "LayoutView",
       "align_content": null,
       "align_items": null,
       "align_self": null,
       "border": null,
       "bottom": null,
       "display": null,
       "flex": null,
       "flex_flow": null,
       "grid_area": null,
       "grid_auto_columns": null,
       "grid_auto_flow": null,
       "grid_auto_rows": null,
       "grid_column": null,
       "grid_gap": null,
       "grid_row": null,
       "grid_template_areas": null,
       "grid_template_columns": null,
       "grid_template_rows": null,
       "height": null,
       "justify_content": null,
       "justify_items": null,
       "left": null,
       "margin": null,
       "max_height": null,
       "max_width": null,
       "min_height": null,
       "min_width": null,
       "object_fit": null,
       "object_position": null,
       "order": null,
       "overflow": null,
       "overflow_x": null,
       "overflow_y": null,
       "padding": null,
       "right": null,
       "top": null,
       "visibility": null,
       "width": null
      }
     },
     "d4c42c8de8a143a5bcd368e2b4aae030": {
      "model_module": "@jupyter-widgets/controls",
      "model_module_version": "1.5.0",
      "model_name": "DescriptionStyleModel",
      "state": {
       "_model_module": "@jupyter-widgets/controls",
       "_model_module_version": "1.5.0",
       "_model_name": "DescriptionStyleModel",
       "_view_count": null,
       "_view_module": "@jupyter-widgets/base",
       "_view_module_version": "1.2.0",
       "_view_name": "StyleView",
       "description_width": ""
      }
     },
     "e4e330639f324ec2bd0a6cdea422ed16": {
      "model_module": "@jupyter-widgets/base",
      "model_module_version": "1.2.0",
      "model_name": "LayoutModel",
      "state": {
       "_model_module": "@jupyter-widgets/base",
       "_model_module_version": "1.2.0",
       "_model_name": "LayoutModel",
       "_view_count": null,
       "_view_module": "@jupyter-widgets/base",
       "_view_module_version": "1.2.0",
       "_view_name": "LayoutView",
       "align_content": null,
       "align_items": null,
       "align_self": null,
       "border": null,
       "bottom": null,
       "display": null,
       "flex": null,
       "flex_flow": null,
       "grid_area": null,
       "grid_auto_columns": null,
       "grid_auto_flow": null,
       "grid_auto_rows": null,
       "grid_column": null,
       "grid_gap": null,
       "grid_row": null,
       "grid_template_areas": null,
       "grid_template_columns": null,
       "grid_template_rows": null,
       "height": null,
       "justify_content": null,
       "justify_items": null,
       "left": null,
       "margin": null,
       "max_height": null,
       "max_width": null,
       "min_height": null,
       "min_width": null,
       "object_fit": null,
       "object_position": null,
       "order": null,
       "overflow": null,
       "overflow_x": null,
       "overflow_y": null,
       "padding": null,
       "right": null,
       "top": null,
       "visibility": null,
       "width": null
      }
     },
     "e5040b03359e47f1a2b8d467a88d3575": {
      "model_module": "@jupyter-widgets/controls",
      "model_module_version": "1.5.0",
      "model_name": "DescriptionStyleModel",
      "state": {
       "_model_module": "@jupyter-widgets/controls",
       "_model_module_version": "1.5.0",
       "_model_name": "DescriptionStyleModel",
       "_view_count": null,
       "_view_module": "@jupyter-widgets/base",
       "_view_module_version": "1.2.0",
       "_view_name": "StyleView",
       "description_width": ""
      }
     }
    },
    "version_major": 2,
    "version_minor": 0
   }
  }
 },
 "nbformat": 4,
 "nbformat_minor": 5
}
