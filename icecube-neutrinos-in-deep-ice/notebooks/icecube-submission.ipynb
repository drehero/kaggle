{
 "cells": [
  {
   "cell_type": "code",
   "execution_count": 1,
   "id": "f6934594",
   "metadata": {
    "execution": {
     "iopub.execute_input": "2023-04-19T17:27:39.470396Z",
     "iopub.status.busy": "2023-04-19T17:27:39.469870Z",
     "iopub.status.idle": "2023-04-19T17:27:39.838335Z",
     "shell.execute_reply": "2023-04-19T17:27:39.837288Z"
    },
    "papermill": {
     "duration": 0.380217,
     "end_time": "2023-04-19T17:27:39.841227",
     "exception": false,
     "start_time": "2023-04-19T17:27:39.461010",
     "status": "completed"
    },
    "tags": []
   },
   "outputs": [],
   "source": [
    "# https://www.kaggle.com/code/mmakhyanov/classification-of-the-events?scriptVersionId=125828590&cellId=44\n",
    "\n",
    "import numpy as np\n",
    "import pandas as pd\n",
    "import polars as pl\n",
    "import math\n",
    "\n",
    "from pathlib import Path\n",
    "\n",
    "\n",
    "PATH_INPUT = Path(\"/kaggle/input/icecube-neutrinos-in-deep-ice\")\n",
    "\n",
    "#train_batch_id = 538\n",
    "#print('Training batch', train_batch_id)\n",
    "#batch_path = \"train/batch_\" + str(train_batch_id)+ \".parquet\" \n",
    "batch_path = \"test/batch_*.parquet\"\n",
    "train_batch = pl.scan_parquet(PATH_INPUT / batch_path).lazy()\n",
    "#df_train_meta = pl.scan_parquet(PATH_INPUT / \"train_meta.parquet\").lazy()\n",
    "df_sensor_geometry = pl.scan_csv(PATH_INPUT / 'sensor_geometry.csv').with_columns(pl.col('sensor_id').cast(pl.Int16)).lazy()\n",
    "\n",
    "\n",
    "DISTANCE = 470\n",
    "\n",
    "sides = df_sensor_geometry.with_columns(\n",
    "[\n",
    "    (((pl.col('x') ** 2 + pl.col('y') ** 2) ** 0.5)).alias('xy_distance')\n",
    "]).filter(\n",
    "pl.col('xy_distance') > DISTANCE).collect()\n",
    "\n",
    "#need to delete these points\n",
    "delete_points = sides.filter((pl.col('x') > 400) & (pl.col('x') < 500) & (pl.col('y') < 200) & (pl.col('y') > 0))\n",
    "\n",
    "#need to add these points\n",
    "add_points = df_sensor_geometry.filter((pl.col('x') > 100) & (pl.col('x') < 180) & (pl.col('y') > 350) & (pl.col('y') < 420)).collect()\n",
    "\n",
    "delete_set = set(delete_points.select(pl.col('sensor_id')).to_pandas()['sensor_id'])\n",
    "add_set = set(add_points.select(pl.col('sensor_id')).to_pandas()['sensor_id'])\n",
    "sides_set = set(sides.select(pl.col('sensor_id')).to_pandas()['sensor_id'])\n",
    "sides_set = (sides_set - delete_set) | add_set\n",
    "\n",
    "\n",
    "Z_BOTTOM = -500\n",
    "Z_TOP = 450\n",
    "\n",
    "top_sensors = df_sensor_geometry.filter(pl.col('z') > Z_TOP).collect()\n",
    "bottom_sensors = df_sensor_geometry.filter(pl.col('z') < Z_BOTTOM).collect()\n",
    "\n",
    "top_set = set(top_sensors.select(pl.col('sensor_id')).to_pandas()['sensor_id'])\n",
    "bottom_set = set(bottom_sensors.select(pl.col('sensor_id')).to_pandas()['sensor_id'])\n",
    "\n",
    "\n",
    "def add_sides(dataf, account_for_aux):\n",
    "    if account_for_aux == False:\n",
    "        return dataf.groupby(['event_id']).agg([\n",
    "            pl.col('sensor_id').first()]\n",
    "        ).with_columns([\n",
    "            pl.col('sensor_id').is_in(list(sides_set)).alias('side'),\n",
    "            pl.col('sensor_id').is_in(list(top_set)).alias('top'),\n",
    "            pl.col('sensor_id').is_in(list(bottom_set)).alias('bottom')\n",
    "        ])\n",
    "    if account_for_aux == True:\n",
    "          return dataf.filter(pl.col('auxiliary') == False).groupby(['event_id']).agg([\n",
    "            pl.col('sensor_id').first()]\n",
    "        ).with_columns([\n",
    "            pl.col('sensor_id').is_in(list(sides_set)).alias('side'),\n",
    "            pl.col('sensor_id').is_in(list(top_set)).alias('top'),\n",
    "            pl.col('sensor_id').is_in(list(bottom_set)).alias('bottom')\n",
    "        ])\n",
    "\n",
    "def join_tables(dataf, data_geometry):\n",
    "    return dataf.join(data_geometry, on='sensor_id')\n",
    "\n",
    "def time_rank(dataf, account_for_aux):\n",
    "    if account_for_aux == True:\n",
    "        return dataf.filter(pl.col('auxiliary') == False).with_columns(\n",
    "[\n",
    "    pl.col('time').rank('ordinal').over('event_id').alias('time_rank')\n",
    "]).filter(\n",
    "    pl.col('time_rank').is_in([1,2])\n",
    ")\n",
    "    else:\n",
    "        return dataf.with_columns(\n",
    "[\n",
    "    pl.col('time').rank('ordinal').over('event_id').alias('time_rank')\n",
    "]).filter(\n",
    "    pl.col('time_rank').is_in([1,2])\n",
    ")\n",
    "    \n",
    "def add_direction(dataf):\n",
    "    return dataf.groupby('event_id').agg([\n",
    "    pl.col('z').head(1).alias('first'),\n",
    "    pl.col('z').tail(1).alias('second')\n",
    "]).with_columns(\n",
    "[\n",
    "    (pl.col('second').arr.explode() - pl.col('first').arr.explode()).alias('direction')\n",
    "]).with_columns(\n",
    "[\n",
    "    (pl.col('direction') > 0).alias('upgoing'),\n",
    "    (pl.col('direction') == 0).alias('horizontal'),\n",
    "    (pl.col('direction') < 0).alias('downgoing')\n",
    "]).select(pl.col('*').sort_by('event_id'))\n",
    "\n",
    "\n",
    "def join_two_features(dataf, df_train_batch, account_for_aux):\n",
    "    return dataf.join(df_train_batch.pipe(add_sides, account_for_aux), on='event_id')\n",
    "\n",
    "def classification_feature(dataf, account_for_aux):\n",
    "    if account_for_aux == True:\n",
    "        return dataf.with_columns(\n",
    "        [\n",
    "            (pl.col('horizontal') * 0.25 + pl.col('downgoing') * 0.5 + pl.col('side') * 0.75 + pl.col('top') + pl.col('bottom') * 0.25\n",
    "            ).alias('hard_to_reconstruct_aux_on')\n",
    "        ]).select([\n",
    "            pl.col('event_id'),\n",
    "            pl.col('hard_to_reconstruct_aux_on') / pl.col('hard_to_reconstruct_aux_on').max()\n",
    "        ])\n",
    "    if account_for_aux == False:\n",
    "        return dataf.with_columns(\n",
    "        [\n",
    "            (pl.col('horizontal') * 0.25 + pl.col('downgoing') * 0.5 + pl.col('side') * 0.75 + pl.col('top') + pl.col('bottom') * 0.25\n",
    "            ).alias('hard_to_reconstruct_aux_off')\n",
    "        ]).select([\n",
    "            pl.col('event_id'),\n",
    "            pl.col('hard_to_reconstruct_aux_off') / pl.col('hard_to_reconstruct_aux_off').max()\n",
    "        ])\n",
    "\n",
    "account_for_aux = False\n",
    "temp_2 = train_batch.pipe(join_tables, df_sensor_geometry\n",
    "                ).pipe(time_rank, account_for_aux\n",
    "                ).pipe(add_direction\n",
    "                ).pipe(join_two_features, train_batch, account_for_aux\n",
    "                ).pipe(classification_feature, account_for_aux)\n",
    "\n",
    "\n",
    "account_for_aux = True\n",
    "temp_3 = train_batch.pipe(join_tables, df_sensor_geometry\n",
    "                ).pipe(time_rank, account_for_aux\n",
    "                ).pipe(add_direction\n",
    "                ).pipe(join_two_features, train_batch, account_for_aux\n",
    "                ).pipe(classification_feature, account_for_aux)\n",
    "\n",
    "df_classification = temp_2.join(temp_3, on='event_id', how='left').collect().to_pandas()"
   ]
  },
  {
   "cell_type": "code",
   "execution_count": 2,
   "id": "a4670b80",
   "metadata": {
    "execution": {
     "iopub.execute_input": "2023-04-19T17:27:39.856076Z",
     "iopub.status.busy": "2023-04-19T17:27:39.855759Z",
     "iopub.status.idle": "2023-04-19T17:27:40.796476Z",
     "shell.execute_reply": "2023-04-19T17:27:40.795111Z"
    },
    "papermill": {
     "duration": 0.951298,
     "end_time": "2023-04-19T17:27:40.799340",
     "exception": false,
     "start_time": "2023-04-19T17:27:39.848042",
     "status": "completed"
    },
    "tags": []
   },
   "outputs": [],
   "source": [
    "!mkdir classification"
   ]
  },
  {
   "cell_type": "code",
   "execution_count": 3,
   "id": "c7f10f72",
   "metadata": {
    "execution": {
     "iopub.execute_input": "2023-04-19T17:27:40.814128Z",
     "iopub.status.busy": "2023-04-19T17:27:40.813577Z",
     "iopub.status.idle": "2023-04-19T17:27:40.840781Z",
     "shell.execute_reply": "2023-04-19T17:27:40.839814Z"
    },
    "papermill": {
     "duration": 0.037151,
     "end_time": "2023-04-19T17:27:40.843012",
     "exception": false,
     "start_time": "2023-04-19T17:27:40.805861",
     "status": "completed"
    },
    "tags": []
   },
   "outputs": [],
   "source": [
    "df_classification.to_parquet(\"classification/out.parquet\", index=False)"
   ]
  },
  {
   "cell_type": "code",
   "execution_count": 4,
   "id": "42c686be",
   "metadata": {
    "execution": {
     "iopub.execute_input": "2023-04-19T17:27:40.857373Z",
     "iopub.status.busy": "2023-04-19T17:27:40.856520Z",
     "iopub.status.idle": "2023-04-19T17:27:40.975631Z",
     "shell.execute_reply": "2023-04-19T17:27:40.974454Z"
    },
    "papermill": {
     "duration": 0.129859,
     "end_time": "2023-04-19T17:27:40.979119",
     "exception": false,
     "start_time": "2023-04-19T17:27:40.849260",
     "status": "completed"
    },
    "tags": []
   },
   "outputs": [
    {
     "data": {
      "text/plain": [
       "63"
      ]
     },
     "execution_count": 4,
     "metadata": {},
     "output_type": "execute_result"
    }
   ],
   "source": [
    "for i in list(globals().keys()):\n",
    "    if not i.startswith('_'):\n",
    "        exec('del ' + i)\n",
    "import gc\n",
    "gc.collect()"
   ]
  },
  {
   "cell_type": "code",
   "execution_count": null,
   "id": "742daa0d",
   "metadata": {
    "papermill": {
     "duration": 0.006183,
     "end_time": "2023-04-19T17:27:40.992340",
     "exception": false,
     "start_time": "2023-04-19T17:27:40.986157",
     "status": "completed"
    },
    "tags": []
   },
   "outputs": [],
   "source": []
  },
  {
   "cell_type": "code",
   "execution_count": 5,
   "id": "b91db124",
   "metadata": {
    "execution": {
     "iopub.execute_input": "2023-04-19T17:27:41.008232Z",
     "iopub.status.busy": "2023-04-19T17:27:41.007923Z",
     "iopub.status.idle": "2023-04-19T17:27:41.013603Z",
     "shell.execute_reply": "2023-04-19T17:27:41.012738Z"
    },
    "papermill": {
     "duration": 0.016022,
     "end_time": "2023-04-19T17:27:41.016144",
     "exception": false,
     "start_time": "2023-04-19T17:27:41.000122",
     "status": "completed"
    },
    "tags": []
   },
   "outputs": [],
   "source": [
    "nbs = [\n",
    "    \"/kaggle/input/icecube-notebooks/graphnet-baseline-submission.ipynb\",\n",
    "    \"/kaggle/input/icecube-notebooks/early-sharing-prize-dynedge-1-046.ipynb\",\n",
    "    \"/kaggle/input/icecube-notebooks/icecube-inference-run1679802608.ipynb\",\n",
    "    \"/kaggle/input/icecube-notebooks/icecube-inference-run1680668395.ipynb\",\n",
    "    \"/kaggle/input/icecube-notebooks/icecube-inference-run1680866125.ipynb\",\n",
    "    \"/kaggle/input/icecube-notebooks/tensorflow-lstm-model-inference.ipynb\",\n",
    "]"
   ]
  },
  {
   "cell_type": "code",
   "execution_count": 6,
   "id": "8e821ca1",
   "metadata": {
    "execution": {
     "iopub.execute_input": "2023-04-19T17:27:41.030042Z",
     "iopub.status.busy": "2023-04-19T17:27:41.029769Z",
     "iopub.status.idle": "2023-04-19T17:39:12.256921Z",
     "shell.execute_reply": "2023-04-19T17:39:12.255585Z"
    },
    "papermill": {
     "duration": 691.239026,
     "end_time": "2023-04-19T17:39:12.261542",
     "exception": false,
     "start_time": "2023-04-19T17:27:41.022516",
     "status": "completed"
    },
    "tags": []
   },
   "outputs": [
    {
     "name": "stdout",
     "output_type": "stream",
     "text": [
      "/kaggle/input/icecube-notebooks/graphnet-baseline-submission.ipynb\n",
      "rm: cannot remove 'software': No such file or directory\r\n",
      "Processing ./software/dependencies/torch-1.11.0+cu115-cp37-cp37m-linux_x86_64.whl\r\n",
      "Requirement already satisfied: typing-extensions in /opt/conda/lib/python3.7/site-packages (from torch==1.11.0+cu115) (4.4.0)\r\n",
      "Installing collected packages: torch\r\n",
      "  Attempting uninstall: torch\r\n",
      "    Found existing installation: torch 1.13.0\r\n",
      "    Uninstalling torch-1.13.0:\r\n",
      "      Successfully uninstalled torch-1.13.0\r\n",
      "Successfully installed torch-1.11.0+cu115\r\n",
      "\u001b[33mWARNING: Running pip as the 'root' user can result in broken permissions and conflicting behaviour with the system package manager. It is recommended to use a virtual environment instead: https://pip.pypa.io/warnings/venv\u001b[0m\u001b[33m\r\n",
      "\u001b[0m\u001b[33mWARNING: There was an error checking the latest version of pip.\u001b[0m\u001b[33m\r\n",
      "\u001b[0mProcessing ./software/dependencies/torch_cluster-1.6.0-cp37-cp37m-linux_x86_64.whl\r\n",
      "Installing collected packages: torch-cluster\r\n",
      "Successfully installed torch-cluster-1.6.0\r\n",
      "\u001b[33mWARNING: Running pip as the 'root' user can result in broken permissions and conflicting behaviour with the system package manager. It is recommended to use a virtual environment instead: https://pip.pypa.io/warnings/venv\u001b[0m\u001b[33m\r\n",
      "\u001b[0m\u001b[33mWARNING: There was an error checking the latest version of pip.\u001b[0m\u001b[33m\r\n",
      "\u001b[0mProcessing ./software/dependencies/torch_scatter-2.0.9-cp37-cp37m-linux_x86_64.whl\r\n",
      "Installing collected packages: torch-scatter\r\n",
      "Successfully installed torch-scatter-2.0.9\r\n",
      "\u001b[33mWARNING: Running pip as the 'root' user can result in broken permissions and conflicting behaviour with the system package manager. It is recommended to use a virtual environment instead: https://pip.pypa.io/warnings/venv\u001b[0m\u001b[33m\r\n",
      "\u001b[0m\u001b[33mWARNING: There was an error checking the latest version of pip.\u001b[0m\u001b[33m\r\n",
      "\u001b[0mProcessing ./software/dependencies/torch_sparse-0.6.13-cp37-cp37m-linux_x86_64.whl\r\n",
      "Requirement already satisfied: scipy in /opt/conda/lib/python3.7/site-packages (from torch-sparse==0.6.13) (1.7.3)\r\n",
      "Requirement already satisfied: numpy<1.23.0,>=1.16.5 in /opt/conda/lib/python3.7/site-packages (from scipy->torch-sparse==0.6.13) (1.21.6)\r\n",
      "Installing collected packages: torch-sparse\r\n",
      "Successfully installed torch-sparse-0.6.13\r\n",
      "\u001b[33mWARNING: Running pip as the 'root' user can result in broken permissions and conflicting behaviour with the system package manager. It is recommended to use a virtual environment instead: https://pip.pypa.io/warnings/venv\u001b[0m\u001b[33m\r\n",
      "\u001b[0m\u001b[33mWARNING: There was an error checking the latest version of pip.\u001b[0m\u001b[33m\r\n",
      "\u001b[0mProcessing ./software/dependencies/torch_geometric-2.0.4.tar.gz\r\n",
      "  Preparing metadata (setup.py) ... \u001b[?25l-\b \bdone\r\n",
      "\u001b[?25hRequirement already satisfied: tqdm in /opt/conda/lib/python3.7/site-packages (from torch-geometric==2.0.4) (4.64.1)\r\n",
      "Requirement already satisfied: numpy in /opt/conda/lib/python3.7/site-packages (from torch-geometric==2.0.4) (1.21.6)\r\n",
      "Requirement already satisfied: scipy in /opt/conda/lib/python3.7/site-packages (from torch-geometric==2.0.4) (1.7.3)\r\n",
      "Requirement already satisfied: pandas in /opt/conda/lib/python3.7/site-packages (from torch-geometric==2.0.4) (1.3.5)\r\n",
      "Requirement already satisfied: jinja2 in /opt/conda/lib/python3.7/site-packages (from torch-geometric==2.0.4) (3.1.2)\r\n",
      "Requirement already satisfied: requests in /opt/conda/lib/python3.7/site-packages (from torch-geometric==2.0.4) (2.28.2)\r\n",
      "Requirement already satisfied: pyparsing in /opt/conda/lib/python3.7/site-packages (from torch-geometric==2.0.4) (3.0.9)\r\n",
      "Requirement already satisfied: scikit-learn in /opt/conda/lib/python3.7/site-packages (from torch-geometric==2.0.4) (1.0.2)\r\n",
      "Requirement already satisfied: MarkupSafe>=2.0 in /opt/conda/lib/python3.7/site-packages (from jinja2->torch-geometric==2.0.4) (2.1.1)\r\n",
      "Requirement already satisfied: python-dateutil>=2.7.3 in /opt/conda/lib/python3.7/site-packages (from pandas->torch-geometric==2.0.4) (2.8.2)\r\n",
      "Requirement already satisfied: pytz>=2017.3 in /opt/conda/lib/python3.7/site-packages (from pandas->torch-geometric==2.0.4) (2022.7.1)\r\n",
      "Requirement already satisfied: certifi>=2017.4.17 in /opt/conda/lib/python3.7/site-packages (from requests->torch-geometric==2.0.4) (2022.12.7)\r\n",
      "Requirement already satisfied: idna<4,>=2.5 in /opt/conda/lib/python3.7/site-packages (from requests->torch-geometric==2.0.4) (3.4)\r\n",
      "Requirement already satisfied: charset-normalizer<4,>=2 in /opt/conda/lib/python3.7/site-packages (from requests->torch-geometric==2.0.4) (2.1.1)\r\n",
      "Requirement already satisfied: urllib3<1.27,>=1.21.1 in /opt/conda/lib/python3.7/site-packages (from requests->torch-geometric==2.0.4) (1.26.14)\r\n",
      "Requirement already satisfied: joblib>=0.11 in /opt/conda/lib/python3.7/site-packages (from scikit-learn->torch-geometric==2.0.4) (1.2.0)\r\n",
      "Requirement already satisfied: threadpoolctl>=2.0.0 in /opt/conda/lib/python3.7/site-packages (from scikit-learn->torch-geometric==2.0.4) (3.1.0)\r\n",
      "Requirement already satisfied: six>=1.5 in /opt/conda/lib/python3.7/site-packages (from python-dateutil>=2.7.3->pandas->torch-geometric==2.0.4) (1.16.0)\r\n",
      "Building wheels for collected packages: torch-geometric\r\n",
      "  Building wheel for torch-geometric (setup.py) ... \u001b[?25l-\b \b\\\b \b|\b \bdone\r\n",
      "\u001b[?25h  Created wheel for torch-geometric: filename=torch_geometric-2.0.4-py3-none-any.whl size=616602 sha256=99100a018f0d20018b68791b9bbeb5eb027eb5833e3ac7cbfcb63f169760be1a\r\n",
      "  Stored in directory: /root/.cache/pip/wheels/c0/33/a3/07aa146f758cd91ebee36268011873ae31c2cfc59dec089e04\r\n",
      "Successfully built torch-geometric\r\n",
      "Installing collected packages: torch-geometric\r\n",
      "Successfully installed torch-geometric-2.0.4\r\n",
      "\u001b[33mWARNING: Running pip as the 'root' user can result in broken permissions and conflicting behaviour with the system package manager. It is recommended to use a virtual environment instead: https://pip.pypa.io/warnings/venv\u001b[0m\u001b[33m\r\n",
      "\u001b[0m\u001b[33mWARNING: There was an error checking the latest version of pip.\u001b[0m\u001b[33m\r\n",
      "\u001b[0mLooking in links: /kaggle/working/software/dependencies\r\n",
      "Obtaining file:///kaggle/working/software/graphnet\r\n",
      "  Preparing metadata (setup.py) ... \u001b[?25l-\b \bdone\r\n",
      "\u001b[?25hProcessing /kaggle/working/software/dependencies/awkward-1.8.0-cp37-cp37m-manylinux_2_12_x86_64.manylinux2010_x86_64.whl\r\n",
      "Requirement already satisfied: colorlog>=6.6 in /opt/conda/lib/python3.7/site-packages (from graphnet==0.2.4+77.g57fd0f3) (6.7.0)\r\n",
      "Processing /kaggle/working/software/dependencies/ConfigUpdater-3.1.1-py2.py3-none-any.whl\r\n",
      "Requirement already satisfied: dill>=0.3 in /opt/conda/lib/python3.7/site-packages (from graphnet==0.2.4+77.g57fd0f3) (0.3.6)\r\n",
      "Requirement already satisfied: matplotlib>=3.5 in /opt/conda/lib/python3.7/site-packages (from graphnet==0.2.4+77.g57fd0f3) (3.5.3)\r\n",
      "Requirement already satisfied: numpy>=1.21 in /opt/conda/lib/python3.7/site-packages (from graphnet==0.2.4+77.g57fd0f3) (1.21.6)\r\n",
      "Requirement already satisfied: pandas>=1.3 in /opt/conda/lib/python3.7/site-packages (from graphnet==0.2.4+77.g57fd0f3) (1.3.5)\r\n",
      "Requirement already satisfied: pyarrow in /opt/conda/lib/python3.7/site-packages (from graphnet==0.2.4+77.g57fd0f3) (5.0.0)\r\n",
      "Requirement already satisfied: pydantic in /opt/conda/lib/python3.7/site-packages (from graphnet==0.2.4+77.g57fd0f3) (1.10.4)\r\n",
      "Processing /kaggle/working/software/dependencies/ruamel.yaml-0.17.21-py3-none-any.whl\r\n",
      "Requirement already satisfied: scikit_learn>=1.0 in /opt/conda/lib/python3.7/site-packages (from graphnet==0.2.4+77.g57fd0f3) (1.0.2)\r\n",
      "Requirement already satisfied: scipy>=1.7 in /opt/conda/lib/python3.7/site-packages (from graphnet==0.2.4+77.g57fd0f3) (1.7.3)\r\n",
      "Requirement already satisfied: sqlalchemy>=1.4 in /opt/conda/lib/python3.7/site-packages (from graphnet==0.2.4+77.g57fd0f3) (1.4.46)\r\n",
      "Processing /kaggle/working/software/dependencies/timer-0.2.2-py3-none-any.whl\r\n",
      "Requirement already satisfied: tqdm>=4.64 in /opt/conda/lib/python3.7/site-packages (from graphnet==0.2.4+77.g57fd0f3) (4.64.1)\r\n",
      "Requirement already satisfied: wandb>=0.12 in /opt/conda/lib/python3.7/site-packages (from graphnet==0.2.4+77.g57fd0f3) (0.13.10)\r\n",
      "Requirement already satisfied: torch>=1.11 in /opt/conda/lib/python3.7/site-packages (from graphnet==0.2.4+77.g57fd0f3) (1.11.0+cu115)\r\n",
      "Requirement already satisfied: torch-cluster>=1.6 in /opt/conda/lib/python3.7/site-packages (from graphnet==0.2.4+77.g57fd0f3) (1.6.0)\r\n",
      "Requirement already satisfied: torch-scatter>=2.0 in /opt/conda/lib/python3.7/site-packages (from graphnet==0.2.4+77.g57fd0f3) (2.0.9)\r\n",
      "Requirement already satisfied: torch-sparse>=0.6 in /opt/conda/lib/python3.7/site-packages (from graphnet==0.2.4+77.g57fd0f3) (0.6.13)\r\n",
      "Requirement already satisfied: torch-geometric>=2.0 in /opt/conda/lib/python3.7/site-packages (from graphnet==0.2.4+77.g57fd0f3) (2.0.4)\r\n",
      "Requirement already satisfied: pytorch-lightning>=1.6 in /opt/conda/lib/python3.7/site-packages (from graphnet==0.2.4+77.g57fd0f3) (1.9.3)\r\n",
      "Requirement already satisfied: setuptools in /opt/conda/lib/python3.7/site-packages (from awkward<2.0,>=1.8->graphnet==0.2.4+77.g57fd0f3) (59.8.0)\r\n",
      "Requirement already satisfied: kiwisolver>=1.0.1 in /opt/conda/lib/python3.7/site-packages (from matplotlib>=3.5->graphnet==0.2.4+77.g57fd0f3) (1.4.4)\r\n",
      "Requirement already satisfied: pyparsing>=2.2.1 in /opt/conda/lib/python3.7/site-packages (from matplotlib>=3.5->graphnet==0.2.4+77.g57fd0f3) (3.0.9)\r\n",
      "Requirement already satisfied: fonttools>=4.22.0 in /opt/conda/lib/python3.7/site-packages (from matplotlib>=3.5->graphnet==0.2.4+77.g57fd0f3) (4.38.0)\r\n",
      "Requirement already satisfied: packaging>=20.0 in /opt/conda/lib/python3.7/site-packages (from matplotlib>=3.5->graphnet==0.2.4+77.g57fd0f3) (23.0)\r\n",
      "Requirement already satisfied: python-dateutil>=2.7 in /opt/conda/lib/python3.7/site-packages (from matplotlib>=3.5->graphnet==0.2.4+77.g57fd0f3) (2.8.2)\r\n",
      "Requirement already satisfied: cycler>=0.10 in /opt/conda/lib/python3.7/site-packages (from matplotlib>=3.5->graphnet==0.2.4+77.g57fd0f3) (0.11.0)\r\n",
      "Requirement already satisfied: pillow>=6.2.0 in /opt/conda/lib/python3.7/site-packages (from matplotlib>=3.5->graphnet==0.2.4+77.g57fd0f3) (9.4.0)\r\n",
      "Requirement already satisfied: pytz>=2017.3 in /opt/conda/lib/python3.7/site-packages (from pandas>=1.3->graphnet==0.2.4+77.g57fd0f3) (2022.7.1)\r\n",
      "Requirement already satisfied: PyYAML>=5.4 in /opt/conda/lib/python3.7/site-packages (from pytorch-lightning>=1.6->graphnet==0.2.4+77.g57fd0f3) (6.0)\r\n",
      "Requirement already satisfied: lightning-utilities>=0.6.0.post0 in /opt/conda/lib/python3.7/site-packages (from pytorch-lightning>=1.6->graphnet==0.2.4+77.g57fd0f3) (0.7.1)\r\n",
      "Requirement already satisfied: typing-extensions>=4.0.0 in /opt/conda/lib/python3.7/site-packages (from pytorch-lightning>=1.6->graphnet==0.2.4+77.g57fd0f3) (4.4.0)\r\n",
      "Requirement already satisfied: fsspec[http]>2021.06.0 in /opt/conda/lib/python3.7/site-packages (from pytorch-lightning>=1.6->graphnet==0.2.4+77.g57fd0f3) (2023.1.0)\r\n",
      "Requirement already satisfied: torchmetrics>=0.7.0 in /opt/conda/lib/python3.7/site-packages (from pytorch-lightning>=1.6->graphnet==0.2.4+77.g57fd0f3) (0.11.1)\r\n",
      "Requirement already satisfied: joblib>=0.11 in /opt/conda/lib/python3.7/site-packages (from scikit_learn>=1.0->graphnet==0.2.4+77.g57fd0f3) (1.2.0)\r\n",
      "Requirement already satisfied: threadpoolctl>=2.0.0 in /opt/conda/lib/python3.7/site-packages (from scikit_learn>=1.0->graphnet==0.2.4+77.g57fd0f3) (3.1.0)\r\n",
      "Requirement already satisfied: greenlet!=0.4.17 in /opt/conda/lib/python3.7/site-packages (from sqlalchemy>=1.4->graphnet==0.2.4+77.g57fd0f3) (2.0.1)\r\n",
      "Requirement already satisfied: importlib-metadata in /opt/conda/lib/python3.7/site-packages (from sqlalchemy>=1.4->graphnet==0.2.4+77.g57fd0f3) (4.11.4)\r\n",
      "Requirement already satisfied: jinja2 in /opt/conda/lib/python3.7/site-packages (from torch-geometric>=2.0->graphnet==0.2.4+77.g57fd0f3) (3.1.2)\r\n",
      "Requirement already satisfied: requests in /opt/conda/lib/python3.7/site-packages (from torch-geometric>=2.0->graphnet==0.2.4+77.g57fd0f3) (2.28.2)\r\n",
      "Requirement already satisfied: GitPython>=1.0.0 in /opt/conda/lib/python3.7/site-packages (from wandb>=0.12->graphnet==0.2.4+77.g57fd0f3) (3.1.30)\r\n",
      "Requirement already satisfied: sentry-sdk>=1.0.0 in /opt/conda/lib/python3.7/site-packages (from wandb>=0.12->graphnet==0.2.4+77.g57fd0f3) (1.15.0)\r\n",
      "Requirement already satisfied: docker-pycreds>=0.4.0 in /opt/conda/lib/python3.7/site-packages (from wandb>=0.12->graphnet==0.2.4+77.g57fd0f3) (0.4.0)\r\n",
      "Requirement already satisfied: psutil>=5.0.0 in /opt/conda/lib/python3.7/site-packages (from wandb>=0.12->graphnet==0.2.4+77.g57fd0f3) (5.9.3)\r\n",
      "Requirement already satisfied: pathtools in /opt/conda/lib/python3.7/site-packages (from wandb>=0.12->graphnet==0.2.4+77.g57fd0f3) (0.1.2)\r\n",
      "Requirement already satisfied: setproctitle in /opt/conda/lib/python3.7/site-packages (from wandb>=0.12->graphnet==0.2.4+77.g57fd0f3) (1.3.2)\r\n",
      "Requirement already satisfied: appdirs>=1.4.3 in /opt/conda/lib/python3.7/site-packages (from wandb>=0.12->graphnet==0.2.4+77.g57fd0f3) (1.4.4)\r\n",
      "Requirement already satisfied: Click!=8.0.0,>=7.0 in /opt/conda/lib/python3.7/site-packages (from wandb>=0.12->graphnet==0.2.4+77.g57fd0f3) (8.1.3)\r\n",
      "Requirement already satisfied: protobuf!=4.21.0,<5,>=3.12.0 in /opt/conda/lib/python3.7/site-packages (from wandb>=0.12->graphnet==0.2.4+77.g57fd0f3) (3.20.3)\r\n",
      "Processing /kaggle/working/software/dependencies/ruamel.yaml.clib-0.2.7-cp37-cp37m-manylinux_2_17_x86_64.manylinux2014_x86_64.manylinux_2_24_x86_64.whl\r\n",
      "Requirement already satisfied: six>=1.4.0 in /opt/conda/lib/python3.7/site-packages (from docker-pycreds>=0.4.0->wandb>=0.12->graphnet==0.2.4+77.g57fd0f3) (1.16.0)\r\n",
      "Requirement already satisfied: aiohttp!=4.0.0a0,!=4.0.0a1 in /opt/conda/lib/python3.7/site-packages (from fsspec[http]>2021.06.0->pytorch-lightning>=1.6->graphnet==0.2.4+77.g57fd0f3) (3.8.3)\r\n",
      "Requirement already satisfied: gitdb<5,>=4.0.1 in /opt/conda/lib/python3.7/site-packages (from GitPython>=1.0.0->wandb>=0.12->graphnet==0.2.4+77.g57fd0f3) (4.0.10)\r\n",
      "Requirement already satisfied: zipp>=0.5 in /opt/conda/lib/python3.7/site-packages (from importlib-metadata->sqlalchemy>=1.4->graphnet==0.2.4+77.g57fd0f3) (3.11.0)\r\n",
      "Requirement already satisfied: urllib3<1.27,>=1.21.1 in /opt/conda/lib/python3.7/site-packages (from requests->torch-geometric>=2.0->graphnet==0.2.4+77.g57fd0f3) (1.26.14)\r\n",
      "Requirement already satisfied: charset-normalizer<4,>=2 in /opt/conda/lib/python3.7/site-packages (from requests->torch-geometric>=2.0->graphnet==0.2.4+77.g57fd0f3) (2.1.1)\r\n",
      "Requirement already satisfied: idna<4,>=2.5 in /opt/conda/lib/python3.7/site-packages (from requests->torch-geometric>=2.0->graphnet==0.2.4+77.g57fd0f3) (3.4)\r\n",
      "Requirement already satisfied: certifi>=2017.4.17 in /opt/conda/lib/python3.7/site-packages (from requests->torch-geometric>=2.0->graphnet==0.2.4+77.g57fd0f3) (2022.12.7)\r\n",
      "Requirement already satisfied: MarkupSafe>=2.0 in /opt/conda/lib/python3.7/site-packages (from jinja2->torch-geometric>=2.0->graphnet==0.2.4+77.g57fd0f3) (2.1.1)\r\n",
      "Requirement already satisfied: aiosignal>=1.1.2 in /opt/conda/lib/python3.7/site-packages (from aiohttp!=4.0.0a0,!=4.0.0a1->fsspec[http]>2021.06.0->pytorch-lightning>=1.6->graphnet==0.2.4+77.g57fd0f3) (1.3.1)\r\n",
      "Requirement already satisfied: yarl<2.0,>=1.0 in /opt/conda/lib/python3.7/site-packages (from aiohttp!=4.0.0a0,!=4.0.0a1->fsspec[http]>2021.06.0->pytorch-lightning>=1.6->graphnet==0.2.4+77.g57fd0f3) (1.8.2)\r\n",
      "Requirement already satisfied: frozenlist>=1.1.1 in /opt/conda/lib/python3.7/site-packages (from aiohttp!=4.0.0a0,!=4.0.0a1->fsspec[http]>2021.06.0->pytorch-lightning>=1.6->graphnet==0.2.4+77.g57fd0f3) (1.3.3)\r\n",
      "Requirement already satisfied: multidict<7.0,>=4.5 in /opt/conda/lib/python3.7/site-packages (from aiohttp!=4.0.0a0,!=4.0.0a1->fsspec[http]>2021.06.0->pytorch-lightning>=1.6->graphnet==0.2.4+77.g57fd0f3) (6.0.4)\r\n",
      "Requirement already satisfied: asynctest==0.13.0 in /opt/conda/lib/python3.7/site-packages (from aiohttp!=4.0.0a0,!=4.0.0a1->fsspec[http]>2021.06.0->pytorch-lightning>=1.6->graphnet==0.2.4+77.g57fd0f3) (0.13.0)\r\n",
      "Requirement already satisfied: async-timeout<5.0,>=4.0.0a3 in /opt/conda/lib/python3.7/site-packages (from aiohttp!=4.0.0a0,!=4.0.0a1->fsspec[http]>2021.06.0->pytorch-lightning>=1.6->graphnet==0.2.4+77.g57fd0f3) (4.0.2)\r\n",
      "Requirement already satisfied: attrs>=17.3.0 in /opt/conda/lib/python3.7/site-packages (from aiohttp!=4.0.0a0,!=4.0.0a1->fsspec[http]>2021.06.0->pytorch-lightning>=1.6->graphnet==0.2.4+77.g57fd0f3) (22.2.0)\r\n",
      "Requirement already satisfied: smmap<6,>=3.0.1 in /opt/conda/lib/python3.7/site-packages (from gitdb<5,>=4.0.1->GitPython>=1.0.0->wandb>=0.12->graphnet==0.2.4+77.g57fd0f3) (5.0.0)\r\n",
      "Installing collected packages: timer, ruamel.yaml.clib, awkward, ruamel.yaml, configupdater, graphnet\r\n",
      "  Running setup.py develop for graphnet\r\n",
      "Successfully installed awkward-1.8.0 configupdater-3.1.1 graphnet-0.2.4+77.g57fd0f3 ruamel.yaml-0.17.21 ruamel.yaml.clib-0.2.7 timer-0.2.2\r\n",
      "\u001b[33mWARNING: Running pip as the 'root' user can result in broken permissions and conflicting behaviour with the system package manager. It is recommended to use a virtual environment instead: https://pip.pypa.io/warnings/venv\u001b[0m\u001b[33m\r\n",
      "\u001b[0m\u001b[1;34mgraphnet\u001b[0m: \u001b[32mINFO    \u001b[0m 2023-04-19 17:32:26 - get_logger - Writing log to \u001b[1mlogs/graphnet_20230419-173226.log\u001b[0m\n",
      "\u001b[1;34mgraphnet\u001b[0m: \u001b[33mWARNING \u001b[0m 2023-04-19 17:32:27 - warn_once - `icecube` not available. Some functionality may be missing.\u001b[0m\n"
     ]
    },
    {
     "name": "stderr",
     "output_type": "stream",
     "text": [
      "/opt/conda/lib/python3.7/site-packages/torchvision/io/image.py:13: UserWarning: Failed to load image Python extension: /opt/conda/lib/python3.7/site-packages/torchvision/image.so: undefined symbol: _ZN3c104impl8GPUTrace13gpuTraceStateE\n",
      "  warn(f\"Failed to load image Python extension: {e}\")\n"
     ]
    },
    {
     "name": "stdout",
     "output_type": "stream",
     "text": [
      "rm: cannot remove '/kaggle/working/test_database.db': No such file or directory\r\n"
     ]
    },
    {
     "name": "stderr",
     "output_type": "stream",
     "text": [
      "0it [00:00, ?it/s]"
     ]
    },
    {
     "name": "stdout",
     "output_type": "stream",
     "text": [
      "/kaggle/working/test_database.db\n"
     ]
    },
    {
     "name": "stderr",
     "output_type": "stream",
     "text": [
      "1it [00:00,  5.30it/s]\n"
     ]
    },
    {
     "name": "stdout",
     "output_type": "stream",
     "text": [
      "/kaggle/working/test_database.db\n",
      "Conversion Complete!. Database available at\n",
      " /kaggle/working/test_database.db\n",
      "\u001b[1;34mgraphnet\u001b[0m: \u001b[33mWARNING \u001b[0m 2023-04-19 17:32:42 - SQLiteDataset.warning - Removing the following (missing) truth variables: zenith, azimuth\u001b[0m\n",
      "\u001b[1;34mgraphnet\u001b[0m: \u001b[33mWARNING \u001b[0m 2023-04-19 17:32:42 - SQLiteDataset.warning - Removing the following (missing) truth variables: zenith, azimuth\u001b[0m\n",
      "\u001b[1;34mgraphnet\u001b[0m: \u001b[33mWARNING \u001b[0m 2023-04-19 17:32:42 - SQLiteDataset.warning - Removing the following (missing) truth variables: zenith, azimuth\u001b[0m\n"
     ]
    },
    {
     "data": {
      "application/vnd.jupyter.widget-view+json": {
       "model_id": "7ea8966397344b07a02caece064a5ac4",
       "version_major": 2,
       "version_minor": 0
      },
      "text/plain": [
       "Predicting: 0it [00:00, ?it/s]"
      ]
     },
     "metadata": {},
     "output_type": "display_data"
    },
    {
     "name": "stdout",
     "output_type": "stream",
     "text": [
      "__notebook__.ipynb  input_data\tout.parquet  submission.csv\r\n",
      "classification\t    logs\tsoftware     test_database.db\r\n",
      "__notebook__.ipynb  classification  out.parquet  submission.csv\r\n"
     ]
    },
    {
     "name": "stderr",
     "output_type": "stream",
     "text": [
      "Exception in thread QueueFeederThread:\n",
      "Traceback (most recent call last):\n",
      "  File \"/opt/conda/lib/python3.7/multiprocessing/queues.py\", line 232, in _feed\n",
      "    close()\n",
      "  File \"/opt/conda/lib/python3.7/multiprocessing/connection.py\", line 177, in close\n",
      "    self._close()\n",
      "  File \"/opt/conda/lib/python3.7/multiprocessing/connection.py\", line 361, in _close\n",
      "    _close(self._handle)\n",
      "OSError: [Errno 9] Bad file descriptor\n",
      "\n",
      "During handling of the above exception, another exception occurred:\n",
      "\n",
      "Traceback (most recent call last):\n",
      "  File \"/opt/conda/lib/python3.7/threading.py\", line 926, in _bootstrap_inner\n",
      "    self.run()\n",
      "  File \"/opt/conda/lib/python3.7/threading.py\", line 870, in run\n",
      "    self._target(*self._args, **self._kwargs)\n",
      "  File \"/opt/conda/lib/python3.7/multiprocessing/queues.py\", line 263, in _feed\n",
      "    queue_sem.release()\n",
      "ValueError: semaphore or lock released too many times\n",
      "\n"
     ]
    },
    {
     "name": "stdout",
     "output_type": "stream",
     "text": [
      "/kaggle/input/icecube-notebooks/early-sharing-prize-dynedge-1-046.ipynb\n",
      "rm: cannot remove 'software': No such file or directory\r\n",
      "Processing ./software/dependencies/torch-1.11.0+cu115-cp37-cp37m-linux_x86_64.whl\r\n",
      "Requirement already satisfied: typing-extensions in /opt/conda/lib/python3.7/site-packages (from torch==1.11.0+cu115) (4.4.0)\r\n",
      "torch is already installed with the same version as the provided wheel. Use --force-reinstall to force an installation of the wheel.\r\n",
      "\u001b[33mWARNING: Running pip as the 'root' user can result in broken permissions and conflicting behaviour with the system package manager. It is recommended to use a virtual environment instead: https://pip.pypa.io/warnings/venv\u001b[0m\u001b[33m\r\n",
      "\u001b[0m\u001b[33mWARNING: There was an error checking the latest version of pip.\u001b[0m\u001b[33m\r\n",
      "\u001b[0mProcessing ./software/dependencies/torch_cluster-1.6.0-cp37-cp37m-linux_x86_64.whl\r\n",
      "torch-cluster is already installed with the same version as the provided wheel. Use --force-reinstall to force an installation of the wheel.\r\n",
      "\u001b[33mWARNING: Running pip as the 'root' user can result in broken permissions and conflicting behaviour with the system package manager. It is recommended to use a virtual environment instead: https://pip.pypa.io/warnings/venv\u001b[0m\u001b[33m\r\n",
      "\u001b[0m\u001b[33mWARNING: There was an error checking the latest version of pip.\u001b[0m\u001b[33m\r\n",
      "\u001b[0mProcessing ./software/dependencies/torch_scatter-2.0.9-cp37-cp37m-linux_x86_64.whl\r\n",
      "torch-scatter is already installed with the same version as the provided wheel. Use --force-reinstall to force an installation of the wheel.\r\n",
      "\u001b[33mWARNING: Running pip as the 'root' user can result in broken permissions and conflicting behaviour with the system package manager. It is recommended to use a virtual environment instead: https://pip.pypa.io/warnings/venv\u001b[0m\u001b[33m\r\n",
      "\u001b[0m\u001b[33mWARNING: There was an error checking the latest version of pip.\u001b[0m\u001b[33m\r\n",
      "\u001b[0mProcessing ./software/dependencies/torch_sparse-0.6.13-cp37-cp37m-linux_x86_64.whl\r\n",
      "Requirement already satisfied: scipy in /opt/conda/lib/python3.7/site-packages (from torch-sparse==0.6.13) (1.7.3)\r\n",
      "Requirement already satisfied: numpy<1.23.0,>=1.16.5 in /opt/conda/lib/python3.7/site-packages (from scipy->torch-sparse==0.6.13) (1.21.6)\r\n",
      "torch-sparse is already installed with the same version as the provided wheel. Use --force-reinstall to force an installation of the wheel.\r\n",
      "\u001b[33mWARNING: Running pip as the 'root' user can result in broken permissions and conflicting behaviour with the system package manager. It is recommended to use a virtual environment instead: https://pip.pypa.io/warnings/venv\u001b[0m\u001b[33m\r\n",
      "\u001b[0m\u001b[33mWARNING: There was an error checking the latest version of pip.\u001b[0m\u001b[33m\r\n",
      "\u001b[0mProcessing ./software/dependencies/torch_geometric-2.0.4.tar.gz\r\n",
      "  Preparing metadata (setup.py) ... \u001b[?25l-\b \bdone\r\n",
      "\u001b[?25hRequirement already satisfied: tqdm in /opt/conda/lib/python3.7/site-packages (from torch-geometric==2.0.4) (4.64.1)\r\n",
      "Requirement already satisfied: numpy in /opt/conda/lib/python3.7/site-packages (from torch-geometric==2.0.4) (1.21.6)\r\n",
      "Requirement already satisfied: scipy in /opt/conda/lib/python3.7/site-packages (from torch-geometric==2.0.4) (1.7.3)\r\n",
      "Requirement already satisfied: pandas in /opt/conda/lib/python3.7/site-packages (from torch-geometric==2.0.4) (1.3.5)\r\n",
      "Requirement already satisfied: jinja2 in /opt/conda/lib/python3.7/site-packages (from torch-geometric==2.0.4) (3.1.2)\r\n",
      "Requirement already satisfied: requests in /opt/conda/lib/python3.7/site-packages (from torch-geometric==2.0.4) (2.28.2)\r\n",
      "Requirement already satisfied: pyparsing in /opt/conda/lib/python3.7/site-packages (from torch-geometric==2.0.4) (3.0.9)\r\n",
      "Requirement already satisfied: scikit-learn in /opt/conda/lib/python3.7/site-packages (from torch-geometric==2.0.4) (1.0.2)\r\n",
      "Requirement already satisfied: MarkupSafe>=2.0 in /opt/conda/lib/python3.7/site-packages (from jinja2->torch-geometric==2.0.4) (2.1.1)\r\n",
      "Requirement already satisfied: python-dateutil>=2.7.3 in /opt/conda/lib/python3.7/site-packages (from pandas->torch-geometric==2.0.4) (2.8.2)\r\n",
      "Requirement already satisfied: pytz>=2017.3 in /opt/conda/lib/python3.7/site-packages (from pandas->torch-geometric==2.0.4) (2022.7.1)\r\n",
      "Requirement already satisfied: idna<4,>=2.5 in /opt/conda/lib/python3.7/site-packages (from requests->torch-geometric==2.0.4) (3.4)\r\n",
      "Requirement already satisfied: certifi>=2017.4.17 in /opt/conda/lib/python3.7/site-packages (from requests->torch-geometric==2.0.4) (2022.12.7)\r\n",
      "Requirement already satisfied: urllib3<1.27,>=1.21.1 in /opt/conda/lib/python3.7/site-packages (from requests->torch-geometric==2.0.4) (1.26.14)\r\n",
      "Requirement already satisfied: charset-normalizer<4,>=2 in /opt/conda/lib/python3.7/site-packages (from requests->torch-geometric==2.0.4) (2.1.1)\r\n",
      "Requirement already satisfied: joblib>=0.11 in /opt/conda/lib/python3.7/site-packages (from scikit-learn->torch-geometric==2.0.4) (1.2.0)\r\n",
      "Requirement already satisfied: threadpoolctl>=2.0.0 in /opt/conda/lib/python3.7/site-packages (from scikit-learn->torch-geometric==2.0.4) (3.1.0)\r\n",
      "Requirement already satisfied: six>=1.5 in /opt/conda/lib/python3.7/site-packages (from python-dateutil>=2.7.3->pandas->torch-geometric==2.0.4) (1.16.0)\r\n",
      "Building wheels for collected packages: torch-geometric\r\n",
      "  Building wheel for torch-geometric (setup.py) ... \u001b[?25l-\b \b\\\b \b|\b \bdone\r\n",
      "\u001b[?25h  Created wheel for torch-geometric: filename=torch_geometric-2.0.4-py3-none-any.whl size=616602 sha256=e8d2f088b97f912e16151f72e61979a3a97fe663340c8baee20eadfcc3f63c53\r\n",
      "  Stored in directory: /root/.cache/pip/wheels/c0/33/a3/07aa146f758cd91ebee36268011873ae31c2cfc59dec089e04\r\n",
      "Successfully built torch-geometric\r\n",
      "Installing collected packages: torch-geometric\r\n",
      "  Attempting uninstall: torch-geometric\r\n",
      "    Found existing installation: torch-geometric 2.0.4\r\n",
      "    Uninstalling torch-geometric-2.0.4:\r\n",
      "      Successfully uninstalled torch-geometric-2.0.4\r\n",
      "Successfully installed torch-geometric-2.0.4\r\n",
      "\u001b[33mWARNING: Running pip as the 'root' user can result in broken permissions and conflicting behaviour with the system package manager. It is recommended to use a virtual environment instead: https://pip.pypa.io/warnings/venv\u001b[0m\u001b[33m\r\n",
      "\u001b[0m\u001b[33mWARNING: There was an error checking the latest version of pip.\u001b[0m\u001b[33m\r\n",
      "\u001b[0mLooking in links: /kaggle/working/software/dependencies\r\n",
      "Obtaining file:///kaggle/working/software/graphnet\r\n",
      "  Preparing metadata (setup.py) ... \u001b[?25l-\b \bdone\r\n",
      "\u001b[?25hRequirement already satisfied: awkward<2.0,>=1.8 in /opt/conda/lib/python3.7/site-packages (from graphnet==0.2.4+77.g57fd0f3) (1.8.0)\r\n",
      "Requirement already satisfied: colorlog>=6.6 in /opt/conda/lib/python3.7/site-packages (from graphnet==0.2.4+77.g57fd0f3) (6.7.0)\r\n",
      "Requirement already satisfied: configupdater in /opt/conda/lib/python3.7/site-packages (from graphnet==0.2.4+77.g57fd0f3) (3.1.1)\r\n",
      "Requirement already satisfied: dill>=0.3 in /opt/conda/lib/python3.7/site-packages (from graphnet==0.2.4+77.g57fd0f3) (0.3.6)\r\n",
      "Requirement already satisfied: matplotlib>=3.5 in /opt/conda/lib/python3.7/site-packages (from graphnet==0.2.4+77.g57fd0f3) (3.5.3)\r\n",
      "Requirement already satisfied: numpy>=1.21 in /opt/conda/lib/python3.7/site-packages (from graphnet==0.2.4+77.g57fd0f3) (1.21.6)\r\n",
      "Requirement already satisfied: pandas>=1.3 in /opt/conda/lib/python3.7/site-packages (from graphnet==0.2.4+77.g57fd0f3) (1.3.5)\r\n",
      "Requirement already satisfied: pyarrow in /opt/conda/lib/python3.7/site-packages (from graphnet==0.2.4+77.g57fd0f3) (5.0.0)\r\n",
      "Requirement already satisfied: pydantic in /opt/conda/lib/python3.7/site-packages (from graphnet==0.2.4+77.g57fd0f3) (1.10.4)\r\n",
      "Requirement already satisfied: ruamel.yaml in /opt/conda/lib/python3.7/site-packages (from graphnet==0.2.4+77.g57fd0f3) (0.17.21)\r\n",
      "Requirement already satisfied: scikit_learn>=1.0 in /opt/conda/lib/python3.7/site-packages (from graphnet==0.2.4+77.g57fd0f3) (1.0.2)\r\n",
      "Requirement already satisfied: scipy>=1.7 in /opt/conda/lib/python3.7/site-packages (from graphnet==0.2.4+77.g57fd0f3) (1.7.3)\r\n",
      "Requirement already satisfied: sqlalchemy>=1.4 in /opt/conda/lib/python3.7/site-packages (from graphnet==0.2.4+77.g57fd0f3) (1.4.46)\r\n",
      "Requirement already satisfied: timer>=0.2 in /opt/conda/lib/python3.7/site-packages (from graphnet==0.2.4+77.g57fd0f3) (0.2.2)\r\n",
      "Requirement already satisfied: tqdm>=4.64 in /opt/conda/lib/python3.7/site-packages (from graphnet==0.2.4+77.g57fd0f3) (4.64.1)\r\n",
      "Requirement already satisfied: wandb>=0.12 in /opt/conda/lib/python3.7/site-packages (from graphnet==0.2.4+77.g57fd0f3) (0.13.10)\r\n",
      "Requirement already satisfied: torch>=1.11 in /opt/conda/lib/python3.7/site-packages (from graphnet==0.2.4+77.g57fd0f3) (1.11.0+cu115)\r\n",
      "Requirement already satisfied: torch-cluster>=1.6 in /opt/conda/lib/python3.7/site-packages (from graphnet==0.2.4+77.g57fd0f3) (1.6.0)\r\n",
      "Requirement already satisfied: torch-scatter>=2.0 in /opt/conda/lib/python3.7/site-packages (from graphnet==0.2.4+77.g57fd0f3) (2.0.9)\r\n",
      "Requirement already satisfied: torch-sparse>=0.6 in /opt/conda/lib/python3.7/site-packages (from graphnet==0.2.4+77.g57fd0f3) (0.6.13)\r\n",
      "Requirement already satisfied: torch-geometric>=2.0 in /opt/conda/lib/python3.7/site-packages (from graphnet==0.2.4+77.g57fd0f3) (2.0.4)\r\n",
      "Requirement already satisfied: pytorch-lightning>=1.6 in /opt/conda/lib/python3.7/site-packages (from graphnet==0.2.4+77.g57fd0f3) (1.9.3)\r\n",
      "Requirement already satisfied: setuptools in /opt/conda/lib/python3.7/site-packages (from awkward<2.0,>=1.8->graphnet==0.2.4+77.g57fd0f3) (59.8.0)\r\n",
      "Requirement already satisfied: pyparsing>=2.2.1 in /opt/conda/lib/python3.7/site-packages (from matplotlib>=3.5->graphnet==0.2.4+77.g57fd0f3) (3.0.9)\r\n",
      "Requirement already satisfied: kiwisolver>=1.0.1 in /opt/conda/lib/python3.7/site-packages (from matplotlib>=3.5->graphnet==0.2.4+77.g57fd0f3) (1.4.4)\r\n",
      "Requirement already satisfied: packaging>=20.0 in /opt/conda/lib/python3.7/site-packages (from matplotlib>=3.5->graphnet==0.2.4+77.g57fd0f3) (23.0)\r\n",
      "Requirement already satisfied: cycler>=0.10 in /opt/conda/lib/python3.7/site-packages (from matplotlib>=3.5->graphnet==0.2.4+77.g57fd0f3) (0.11.0)\r\n",
      "Requirement already satisfied: python-dateutil>=2.7 in /opt/conda/lib/python3.7/site-packages (from matplotlib>=3.5->graphnet==0.2.4+77.g57fd0f3) (2.8.2)\r\n",
      "Requirement already satisfied: pillow>=6.2.0 in /opt/conda/lib/python3.7/site-packages (from matplotlib>=3.5->graphnet==0.2.4+77.g57fd0f3) (9.4.0)\r\n",
      "Requirement already satisfied: fonttools>=4.22.0 in /opt/conda/lib/python3.7/site-packages (from matplotlib>=3.5->graphnet==0.2.4+77.g57fd0f3) (4.38.0)\r\n",
      "Requirement already satisfied: pytz>=2017.3 in /opt/conda/lib/python3.7/site-packages (from pandas>=1.3->graphnet==0.2.4+77.g57fd0f3) (2022.7.1)\r\n",
      "Requirement already satisfied: fsspec[http]>2021.06.0 in /opt/conda/lib/python3.7/site-packages (from pytorch-lightning>=1.6->graphnet==0.2.4+77.g57fd0f3) (2023.1.0)\r\n",
      "Requirement already satisfied: lightning-utilities>=0.6.0.post0 in /opt/conda/lib/python3.7/site-packages (from pytorch-lightning>=1.6->graphnet==0.2.4+77.g57fd0f3) (0.7.1)\r\n",
      "Requirement already satisfied: PyYAML>=5.4 in /opt/conda/lib/python3.7/site-packages (from pytorch-lightning>=1.6->graphnet==0.2.4+77.g57fd0f3) (6.0)\r\n",
      "Requirement already satisfied: typing-extensions>=4.0.0 in /opt/conda/lib/python3.7/site-packages (from pytorch-lightning>=1.6->graphnet==0.2.4+77.g57fd0f3) (4.4.0)\r\n",
      "Requirement already satisfied: torchmetrics>=0.7.0 in /opt/conda/lib/python3.7/site-packages (from pytorch-lightning>=1.6->graphnet==0.2.4+77.g57fd0f3) (0.11.1)\r\n",
      "Requirement already satisfied: threadpoolctl>=2.0.0 in /opt/conda/lib/python3.7/site-packages (from scikit_learn>=1.0->graphnet==0.2.4+77.g57fd0f3) (3.1.0)\r\n",
      "Requirement already satisfied: joblib>=0.11 in /opt/conda/lib/python3.7/site-packages (from scikit_learn>=1.0->graphnet==0.2.4+77.g57fd0f3) (1.2.0)\r\n",
      "Requirement already satisfied: greenlet!=0.4.17 in /opt/conda/lib/python3.7/site-packages (from sqlalchemy>=1.4->graphnet==0.2.4+77.g57fd0f3) (2.0.1)\r\n",
      "Requirement already satisfied: importlib-metadata in /opt/conda/lib/python3.7/site-packages (from sqlalchemy>=1.4->graphnet==0.2.4+77.g57fd0f3) (4.11.4)\r\n",
      "Requirement already satisfied: jinja2 in /opt/conda/lib/python3.7/site-packages (from torch-geometric>=2.0->graphnet==0.2.4+77.g57fd0f3) (3.1.2)\r\n",
      "Requirement already satisfied: requests in /opt/conda/lib/python3.7/site-packages (from torch-geometric>=2.0->graphnet==0.2.4+77.g57fd0f3) (2.28.2)\r\n",
      "Requirement already satisfied: GitPython>=1.0.0 in /opt/conda/lib/python3.7/site-packages (from wandb>=0.12->graphnet==0.2.4+77.g57fd0f3) (3.1.30)\r\n",
      "Requirement already satisfied: psutil>=5.0.0 in /opt/conda/lib/python3.7/site-packages (from wandb>=0.12->graphnet==0.2.4+77.g57fd0f3) (5.9.3)\r\n",
      "Requirement already satisfied: sentry-sdk>=1.0.0 in /opt/conda/lib/python3.7/site-packages (from wandb>=0.12->graphnet==0.2.4+77.g57fd0f3) (1.15.0)\r\n",
      "Requirement already satisfied: docker-pycreds>=0.4.0 in /opt/conda/lib/python3.7/site-packages (from wandb>=0.12->graphnet==0.2.4+77.g57fd0f3) (0.4.0)\r\n",
      "Requirement already satisfied: protobuf!=4.21.0,<5,>=3.12.0 in /opt/conda/lib/python3.7/site-packages (from wandb>=0.12->graphnet==0.2.4+77.g57fd0f3) (3.20.3)\r\n",
      "Requirement already satisfied: pathtools in /opt/conda/lib/python3.7/site-packages (from wandb>=0.12->graphnet==0.2.4+77.g57fd0f3) (0.1.2)\r\n",
      "Requirement already satisfied: setproctitle in /opt/conda/lib/python3.7/site-packages (from wandb>=0.12->graphnet==0.2.4+77.g57fd0f3) (1.3.2)\r\n",
      "Requirement already satisfied: appdirs>=1.4.3 in /opt/conda/lib/python3.7/site-packages (from wandb>=0.12->graphnet==0.2.4+77.g57fd0f3) (1.4.4)\r\n",
      "Requirement already satisfied: Click!=8.0.0,>=7.0 in /opt/conda/lib/python3.7/site-packages (from wandb>=0.12->graphnet==0.2.4+77.g57fd0f3) (8.1.3)\r\n",
      "Requirement already satisfied: ruamel.yaml.clib>=0.2.6 in /opt/conda/lib/python3.7/site-packages (from ruamel.yaml->graphnet==0.2.4+77.g57fd0f3) (0.2.7)\r\n",
      "Requirement already satisfied: six>=1.4.0 in /opt/conda/lib/python3.7/site-packages (from docker-pycreds>=0.4.0->wandb>=0.12->graphnet==0.2.4+77.g57fd0f3) (1.16.0)\r\n",
      "Requirement already satisfied: aiohttp!=4.0.0a0,!=4.0.0a1 in /opt/conda/lib/python3.7/site-packages (from fsspec[http]>2021.06.0->pytorch-lightning>=1.6->graphnet==0.2.4+77.g57fd0f3) (3.8.3)\r\n",
      "Requirement already satisfied: gitdb<5,>=4.0.1 in /opt/conda/lib/python3.7/site-packages (from GitPython>=1.0.0->wandb>=0.12->graphnet==0.2.4+77.g57fd0f3) (4.0.10)\r\n",
      "Requirement already satisfied: zipp>=0.5 in /opt/conda/lib/python3.7/site-packages (from importlib-metadata->sqlalchemy>=1.4->graphnet==0.2.4+77.g57fd0f3) (3.11.0)\r\n",
      "Requirement already satisfied: charset-normalizer<4,>=2 in /opt/conda/lib/python3.7/site-packages (from requests->torch-geometric>=2.0->graphnet==0.2.4+77.g57fd0f3) (2.1.1)\r\n",
      "Requirement already satisfied: urllib3<1.27,>=1.21.1 in /opt/conda/lib/python3.7/site-packages (from requests->torch-geometric>=2.0->graphnet==0.2.4+77.g57fd0f3) (1.26.14)\r\n",
      "Requirement already satisfied: idna<4,>=2.5 in /opt/conda/lib/python3.7/site-packages (from requests->torch-geometric>=2.0->graphnet==0.2.4+77.g57fd0f3) (3.4)\r\n",
      "Requirement already satisfied: certifi>=2017.4.17 in /opt/conda/lib/python3.7/site-packages (from requests->torch-geometric>=2.0->graphnet==0.2.4+77.g57fd0f3) (2022.12.7)\r\n",
      "Requirement already satisfied: MarkupSafe>=2.0 in /opt/conda/lib/python3.7/site-packages (from jinja2->torch-geometric>=2.0->graphnet==0.2.4+77.g57fd0f3) (2.1.1)\r\n",
      "Requirement already satisfied: multidict<7.0,>=4.5 in /opt/conda/lib/python3.7/site-packages (from aiohttp!=4.0.0a0,!=4.0.0a1->fsspec[http]>2021.06.0->pytorch-lightning>=1.6->graphnet==0.2.4+77.g57fd0f3) (6.0.4)\r\n",
      "Requirement already satisfied: aiosignal>=1.1.2 in /opt/conda/lib/python3.7/site-packages (from aiohttp!=4.0.0a0,!=4.0.0a1->fsspec[http]>2021.06.0->pytorch-lightning>=1.6->graphnet==0.2.4+77.g57fd0f3) (1.3.1)\r\n",
      "Requirement already satisfied: yarl<2.0,>=1.0 in /opt/conda/lib/python3.7/site-packages (from aiohttp!=4.0.0a0,!=4.0.0a1->fsspec[http]>2021.06.0->pytorch-lightning>=1.6->graphnet==0.2.4+77.g57fd0f3) (1.8.2)\r\n",
      "Requirement already satisfied: attrs>=17.3.0 in /opt/conda/lib/python3.7/site-packages (from aiohttp!=4.0.0a0,!=4.0.0a1->fsspec[http]>2021.06.0->pytorch-lightning>=1.6->graphnet==0.2.4+77.g57fd0f3) (22.2.0)\r\n",
      "Requirement already satisfied: async-timeout<5.0,>=4.0.0a3 in /opt/conda/lib/python3.7/site-packages (from aiohttp!=4.0.0a0,!=4.0.0a1->fsspec[http]>2021.06.0->pytorch-lightning>=1.6->graphnet==0.2.4+77.g57fd0f3) (4.0.2)\r\n",
      "Requirement already satisfied: frozenlist>=1.1.1 in /opt/conda/lib/python3.7/site-packages (from aiohttp!=4.0.0a0,!=4.0.0a1->fsspec[http]>2021.06.0->pytorch-lightning>=1.6->graphnet==0.2.4+77.g57fd0f3) (1.3.3)\r\n",
      "Requirement already satisfied: asynctest==0.13.0 in /opt/conda/lib/python3.7/site-packages (from aiohttp!=4.0.0a0,!=4.0.0a1->fsspec[http]>2021.06.0->pytorch-lightning>=1.6->graphnet==0.2.4+77.g57fd0f3) (0.13.0)\r\n",
      "Requirement already satisfied: smmap<6,>=3.0.1 in /opt/conda/lib/python3.7/site-packages (from gitdb<5,>=4.0.1->GitPython>=1.0.0->wandb>=0.12->graphnet==0.2.4+77.g57fd0f3) (5.0.0)\r\n",
      "Installing collected packages: graphnet\r\n",
      "  Attempting uninstall: graphnet\r\n",
      "    Found existing installation: graphnet 0.2.4+77.g57fd0f3\r\n",
      "    Uninstalling graphnet-0.2.4+77.g57fd0f3:\r\n",
      "      Successfully uninstalled graphnet-0.2.4+77.g57fd0f3\r\n",
      "  Running setup.py develop for graphnet\r\n",
      "Successfully installed graphnet-0.2.4+77.g57fd0f3\r\n",
      "\u001b[33mWARNING: Running pip as the 'root' user can result in broken permissions and conflicting behaviour with the system package manager. It is recommended to use a virtual environment instead: https://pip.pypa.io/warnings/venv\u001b[0m\u001b[33m\r\n",
      "\u001b[0m__notebook__.ipynb  classification  graphnet-baseline-submission  software\r\n",
      "1 models found.\n",
      "Finished batch 661\n",
      "/kaggle/input/icecube-notebooks/icecube-inference-run1679802608.ipynb\n",
      "<generator object Path.glob at 0x7c3f99e68f50>\n",
      "/kaggle/input/icecube-neutrinos-in-deep-ice/test/batch_661.parquet\n"
     ]
    },
    {
     "data": {
      "application/vnd.jupyter.widget-view+json": {
       "model_id": "dc2a8c6690ab49d69ae7f82992bb4a17",
       "version_major": 2,
       "version_minor": 0
      },
      "text/plain": [
       "0it [00:00, ?it/s]"
      ]
     },
     "metadata": {},
     "output_type": "display_data"
    },
    {
     "name": "stdout",
     "output_type": "stream",
     "text": [
      "/kaggle/input/icecube-notebooks/icecube-inference-run1680668395.ipynb\n"
     ]
    },
    {
     "data": {
      "application/vnd.jupyter.widget-view+json": {
       "model_id": "a8be447a96e74df7a8538398805ff2ae",
       "version_major": 2,
       "version_minor": 0
      },
      "text/plain": [
       "0it [00:00, ?it/s]"
      ]
     },
     "metadata": {},
     "output_type": "display_data"
    },
    {
     "name": "stdout",
     "output_type": "stream",
     "text": [
      "/kaggle/input/icecube-notebooks/icecube-inference-run1680866125.ipynb\n"
     ]
    },
    {
     "data": {
      "application/vnd.jupyter.widget-view+json": {
       "model_id": "43d6b9da837942af9822ce8692e4b76f",
       "version_major": 2,
       "version_minor": 0
      },
      "text/plain": [
       "0it [00:00, ?it/s]"
      ]
     },
     "metadata": {},
     "output_type": "display_data"
    },
    {
     "name": "stdout",
     "output_type": "stream",
     "text": [
      "/kaggle/input/icecube-notebooks/tensorflow-lstm-model-inference.ipynb\n",
      "\n",
      "==== Model Parameters\n",
      "Bin Numbers: 24\n",
      "Maximum Pulse Count: 96\n",
      "Features Count: 6\n",
      "time valid length: 6199.700247193777 ns\n",
      "[0.         0.26179939 0.52359878 0.78539816 1.04719755 1.30899694\n",
      " 1.57079633 1.83259571 2.0943951  2.35619449 2.61799388 2.87979327\n",
      " 3.14159265 3.40339204 3.66519143 3.92699082 4.1887902  4.45058959\n",
      " 4.71238898 4.97418837 5.23598776 5.49778714 5.75958653 6.02138592\n",
      " 6.28318531]\n",
      "[0.         0.41113786 0.58568554 0.72273425 0.84106867 0.94796974\n",
      " 1.04719755 1.1410209  1.23095942 1.31811607 1.40334825 1.48736624\n",
      " 1.57079633 1.65422641 1.73824441 1.82347658 1.91063324 2.00057176\n",
      " 2.0943951  2.19362291 2.30052398 2.41885841 2.55590711 2.73045479\n",
      " 3.14159265]\n",
      "[661]\n",
      "1/1 [==============================] - 10s 10s/step\n"
     ]
    }
   ],
   "source": [
    "\"\"\"\n",
    "for nb in nbs:\n",
    "    import pathlib\n",
    "    nb = pathlib.Path(nb)\n",
    "    eval_batches = pathlib.Path(\"/kaggle/input/icecube-neutrinos-in-deep-ice/test\").glob(\"*.parquet\")\n",
    "    n = nb.name.split(\".\")[0]\n",
    "    %run -i {str(nb)}\n",
    "    !mkdir {n}\n",
    "    for f in pathlib.Path(\"./\").glob(\"*\"):\n",
    "        if f.is_file():\n",
    "            if f.name.endswith(\".parquet\"):\n",
    "                !mv {f} {n}\n",
    "            else:\n",
    "                !rm -rf {f}\n",
    "    %reset -f\n",
    "\"\"\"\n",
    "    \n",
    "for nb in nbs:\n",
    "    print(nb)\n",
    "    import pathlib\n",
    "    nb = pathlib.Path(nb)\n",
    "    eval_batches = pathlib.Path(\"/kaggle/input/icecube-neutrinos-in-deep-ice/test\").glob(\"*.parquet\")\n",
    "    n = nb.name.split(\".\")[0]\n",
    "    %run -i {str(nb)}\n",
    "    !mkdir {n}\n",
    "    for f in pathlib.Path(\"./\").glob(\"*\"):\n",
    "        if f.is_file():\n",
    "            if f.name.endswith(\".parquet\"):\n",
    "                !mv {f} {n}\n",
    "            else:\n",
    "                !rm -rf {f}\n",
    "    %reset -f"
   ]
  },
  {
   "cell_type": "code",
   "execution_count": 7,
   "id": "f0487855",
   "metadata": {
    "execution": {
     "iopub.execute_input": "2023-04-19T17:39:12.291109Z",
     "iopub.status.busy": "2023-04-19T17:39:12.290784Z",
     "iopub.status.idle": "2023-04-19T17:39:13.362908Z",
     "shell.execute_reply": "2023-04-19T17:39:13.361450Z"
    },
    "papermill": {
     "duration": 1.089727,
     "end_time": "2023-04-19T17:39:13.365472",
     "exception": false,
     "start_time": "2023-04-19T17:39:12.275745",
     "status": "completed"
    },
    "tags": []
   },
   "outputs": [
    {
     "name": "stdout",
     "output_type": "stream",
     "text": [
      "__notebook__.ipynb\t\t   icecube-inference-run1679802608\r\n",
      "__pycache__\t\t\t   icecube-inference-run1680668395\r\n",
      "classification\t\t\t   icecube-inference-run1680866125\r\n",
      "early-sharing-prize-dynedge-1-046  software\r\n",
      "graphnet-baseline-submission\t   tensorflow-lstm-model-inference\r\n"
     ]
    }
   ],
   "source": [
    "!ls"
   ]
  },
  {
   "cell_type": "code",
   "execution_count": null,
   "id": "a96788ee",
   "metadata": {
    "papermill": {
     "duration": 0.014138,
     "end_time": "2023-04-19T17:39:13.393740",
     "exception": false,
     "start_time": "2023-04-19T17:39:13.379602",
     "status": "completed"
    },
    "tags": []
   },
   "outputs": [],
   "source": []
  },
  {
   "cell_type": "code",
   "execution_count": 8,
   "id": "8a91d080",
   "metadata": {
    "execution": {
     "iopub.execute_input": "2023-04-19T17:39:13.430720Z",
     "iopub.status.busy": "2023-04-19T17:39:13.429776Z",
     "iopub.status.idle": "2023-04-19T17:39:13.764758Z",
     "shell.execute_reply": "2023-04-19T17:39:13.763767Z"
    },
    "papermill": {
     "duration": 0.359743,
     "end_time": "2023-04-19T17:39:13.767309",
     "exception": false,
     "start_time": "2023-04-19T17:39:13.407566",
     "status": "completed"
    },
    "tags": []
   },
   "outputs": [
    {
     "data": {
      "text/plain": [
       "42"
      ]
     },
     "execution_count": 8,
     "metadata": {},
     "output_type": "execute_result"
    }
   ],
   "source": [
    "for i in list(globals().keys()):\n",
    "    if not i.startswith('_'):\n",
    "        exec('del ' + i)\n",
    "import gc\n",
    "gc.collect()"
   ]
  },
  {
   "cell_type": "code",
   "execution_count": null,
   "id": "d927c2e2",
   "metadata": {
    "papermill": {
     "duration": 0.013878,
     "end_time": "2023-04-19T17:39:13.795327",
     "exception": false,
     "start_time": "2023-04-19T17:39:13.781449",
     "status": "completed"
    },
    "tags": []
   },
   "outputs": [],
   "source": []
  },
  {
   "cell_type": "code",
   "execution_count": 9,
   "id": "eb52f831",
   "metadata": {
    "execution": {
     "iopub.execute_input": "2023-04-19T17:39:13.824687Z",
     "iopub.status.busy": "2023-04-19T17:39:13.824376Z",
     "iopub.status.idle": "2023-04-19T17:39:13.830389Z",
     "shell.execute_reply": "2023-04-19T17:39:13.829474Z"
    },
    "papermill": {
     "duration": 0.023368,
     "end_time": "2023-04-19T17:39:13.832535",
     "exception": false,
     "start_time": "2023-04-19T17:39:13.809167",
     "status": "completed"
    },
    "tags": []
   },
   "outputs": [],
   "source": [
    "import gc\n",
    "import pathlib\n",
    "import pickle\n",
    "\n",
    "import numpy as np\n",
    "import pandas as pd"
   ]
  },
  {
   "cell_type": "code",
   "execution_count": null,
   "id": "870f7aaa",
   "metadata": {
    "papermill": {
     "duration": 0.013746,
     "end_time": "2023-04-19T17:39:13.859917",
     "exception": false,
     "start_time": "2023-04-19T17:39:13.846171",
     "status": "completed"
    },
    "tags": []
   },
   "outputs": [],
   "source": []
  },
  {
   "cell_type": "code",
   "execution_count": 10,
   "id": "843ecf1e",
   "metadata": {
    "execution": {
     "iopub.execute_input": "2023-04-19T17:39:13.889129Z",
     "iopub.status.busy": "2023-04-19T17:39:13.888544Z",
     "iopub.status.idle": "2023-04-19T17:39:13.896494Z",
     "shell.execute_reply": "2023-04-19T17:39:13.895514Z"
    },
    "papermill": {
     "duration": 0.024886,
     "end_time": "2023-04-19T17:39:13.898762",
     "exception": false,
     "start_time": "2023-04-19T17:39:13.873876",
     "status": "completed"
    },
    "tags": []
   },
   "outputs": [],
   "source": [
    "def convert_to_3d(df: pd.DataFrame) -> pd.DataFrame:\n",
    "    \"\"\"Converts zenith and azimuth to 3D direction vectors\"\"\"\n",
    "    df['x'] = np.cos(df['azimuth']) * np.sin(df['zenith'])\n",
    "    df['y'] = np.sin(df['azimuth'])*np.sin(df['zenith'])\n",
    "    df['z'] = np.cos(df['zenith'])\n",
    "    return df\n",
    "\n",
    "def xyz2azzen(x, y, z):\n",
    "    # https://www.kaggle.com/code/rasmusrse/graphnet-baseline-submission\n",
    "    r = np.sqrt(x**2 + y**2 + z**2)\n",
    "    zenith = np.arccos(z/r)\n",
    "    azimuth = np.arctan2(y, x) #np.sign(results['true_y'])*np.arccos((results['true_x'])/(np.sqrt(results['true_x']**2 + results['true_y']**2)))\n",
    "    azimuth[azimuth < 0] = azimuth[azimuth < 0] + 2*np.pi\n",
    "    return azimuth, zenith"
   ]
  },
  {
   "cell_type": "code",
   "execution_count": 11,
   "id": "328c395d",
   "metadata": {
    "execution": {
     "iopub.execute_input": "2023-04-19T17:39:13.928044Z",
     "iopub.status.busy": "2023-04-19T17:39:13.927121Z",
     "iopub.status.idle": "2023-04-19T17:39:13.932478Z",
     "shell.execute_reply": "2023-04-19T17:39:13.931572Z"
    },
    "papermill": {
     "duration": 0.022051,
     "end_time": "2023-04-19T17:39:13.934510",
     "exception": false,
     "start_time": "2023-04-19T17:39:13.912459",
     "status": "completed"
    },
    "tags": []
   },
   "outputs": [],
   "source": [
    "nbs = [\n",
    "    \"/kaggle/input/icecube-notebooks/graphnet-baseline-submission.ipynb\",\n",
    "    \"/kaggle/input/icecube-notebooks/icecube-inference-run1679802608.ipynb\",\n",
    "    \"/kaggle/input/icecube-notebooks/icecube-inference-run1680668395.ipynb\",\n",
    "    \"/kaggle/input/icecube-notebooks/icecube-inference-run1680866125.ipynb\",\n",
    "    \"/kaggle/input/icecube-notebooks/early-sharing-prize-dynedge-1-046.ipynb\",\n",
    "    \"/kaggle/input/icecube-notebooks/tensorflow-lstm-model-inference.ipynb\",\n",
    "]"
   ]
  },
  {
   "cell_type": "code",
   "execution_count": 12,
   "id": "dcec2332",
   "metadata": {
    "execution": {
     "iopub.execute_input": "2023-04-19T17:39:13.964058Z",
     "iopub.status.busy": "2023-04-19T17:39:13.963221Z",
     "iopub.status.idle": "2023-04-19T17:39:15.541572Z",
     "shell.execute_reply": "2023-04-19T17:39:15.540554Z"
    },
    "papermill": {
     "duration": 1.595968,
     "end_time": "2023-04-19T17:39:15.544173",
     "exception": false,
     "start_time": "2023-04-19T17:39:13.948205",
     "status": "completed"
    },
    "tags": []
   },
   "outputs": [],
   "source": [
    "df = None\n",
    "for nb in nbs:\n",
    "    n = nb.split(\"/\")[-1].split(\".\")[0]\n",
    "    _df = pd.read_parquet(n + \"/out.parquet\")\n",
    "    if not \"x\" in _df.columns:\n",
    "        _df = convert_to_3d(_df) \n",
    "    _df = _df.rename(columns={\"x\": f\"x_{n}\", \"y\": f\"y_{n}\", \"z\": f\"z_{n}\"})\n",
    "    # norm\n",
    "    c = np.sqrt(_df[f\"x_{n}\"]**2+_df[f\"y_{n}\"]**2+_df[f\"z_{n}\"]**2)\n",
    "    _df[f\"x_{n}\"] /= c\n",
    "    _df[f\"y_{n}\"] /= c\n",
    "    _df[f\"z_{n}\"] /= c\n",
    "    if \"direction_kappa\" in _df.columns:\n",
    "        _df[\"sigma\"] = 1/np.sqrt(_df[\"direction_kappa\"])\n",
    "    if df is not None:\n",
    "        if \"sigma\" in _df.columns:\n",
    "            df = df.merge(_df[[\"event_id\", f\"x_{n}\", f\"y_{n}\", f\"z_{n}\", \"sigma\"]], on=\"event_id\", how=\"left\")\n",
    "        else:\n",
    "            df = df.merge(_df[[\"event_id\", f\"x_{n}\", f\"y_{n}\", f\"z_{n}\"]], on=\"event_id\", how=\"left\")\n",
    "    else:\n",
    "        if \"sigma\" in _df.columns:\n",
    "            df = _df[[\"event_id\", f\"x_{n}\", f\"y_{n}\", f\"z_{n}\", \"sigma\"]]\n",
    "        else:\n",
    "            df = _df[[\"event_id\", f\"x_{n}\", f\"y_{n}\", f\"z_{n}\"]]\n",
    "    del(_df)\n",
    "    gc.collect()"
   ]
  },
  {
   "cell_type": "code",
   "execution_count": null,
   "id": "508ff1bd",
   "metadata": {
    "papermill": {
     "duration": 0.014108,
     "end_time": "2023-04-19T17:39:15.572627",
     "exception": false,
     "start_time": "2023-04-19T17:39:15.558519",
     "status": "completed"
    },
    "tags": []
   },
   "outputs": [],
   "source": []
  },
  {
   "cell_type": "code",
   "execution_count": null,
   "id": "e678d378",
   "metadata": {
    "papermill": {
     "duration": 0.013642,
     "end_time": "2023-04-19T17:39:15.599987",
     "exception": false,
     "start_time": "2023-04-19T17:39:15.586345",
     "status": "completed"
    },
    "tags": []
   },
   "outputs": [],
   "source": []
  },
  {
   "cell_type": "code",
   "execution_count": null,
   "id": "90859ba6",
   "metadata": {
    "papermill": {
     "duration": 0.013704,
     "end_time": "2023-04-19T17:39:15.627442",
     "exception": false,
     "start_time": "2023-04-19T17:39:15.613738",
     "status": "completed"
    },
    "tags": []
   },
   "outputs": [],
   "source": []
  },
  {
   "cell_type": "code",
   "execution_count": 13,
   "id": "118a6af4",
   "metadata": {
    "execution": {
     "iopub.execute_input": "2023-04-19T17:39:15.656407Z",
     "iopub.status.busy": "2023-04-19T17:39:15.656080Z",
     "iopub.status.idle": "2023-04-19T17:39:15.666574Z",
     "shell.execute_reply": "2023-04-19T17:39:15.665611Z"
    },
    "papermill": {
     "duration": 0.027567,
     "end_time": "2023-04-19T17:39:15.668783",
     "exception": false,
     "start_time": "2023-04-19T17:39:15.641216",
     "status": "completed"
    },
    "tags": []
   },
   "outputs": [],
   "source": [
    "df_classification = pd.read_parquet(\"classification/out.parquet\")\n",
    "df = df.merge(df_classification, on=\"event_id\")"
   ]
  },
  {
   "cell_type": "code",
   "execution_count": 14,
   "id": "931891dd",
   "metadata": {
    "execution": {
     "iopub.execute_input": "2023-04-19T17:39:15.698131Z",
     "iopub.status.busy": "2023-04-19T17:39:15.697322Z",
     "iopub.status.idle": "2023-04-19T17:39:15.964445Z",
     "shell.execute_reply": "2023-04-19T17:39:15.963258Z"
    },
    "papermill": {
     "duration": 0.2845,
     "end_time": "2023-04-19T17:39:15.967213",
     "exception": false,
     "start_time": "2023-04-19T17:39:15.682713",
     "status": "completed"
    },
    "tags": []
   },
   "outputs": [
    {
     "data": {
      "text/plain": [
       "42"
      ]
     },
     "execution_count": 14,
     "metadata": {},
     "output_type": "execute_result"
    }
   ],
   "source": [
    "del(df_classification)\n",
    "gc.collect()"
   ]
  },
  {
   "cell_type": "code",
   "execution_count": 15,
   "id": "42e0cc24",
   "metadata": {
    "execution": {
     "iopub.execute_input": "2023-04-19T17:39:15.998883Z",
     "iopub.status.busy": "2023-04-19T17:39:15.997109Z",
     "iopub.status.idle": "2023-04-19T17:39:16.004960Z",
     "shell.execute_reply": "2023-04-19T17:39:16.004023Z"
    },
    "papermill": {
     "duration": 0.025658,
     "end_time": "2023-04-19T17:39:16.007195",
     "exception": false,
     "start_time": "2023-04-19T17:39:15.981537",
     "status": "completed"
    },
    "tags": []
   },
   "outputs": [],
   "source": [
    "df = df.set_index(\"event_id\", drop=True)"
   ]
  },
  {
   "cell_type": "code",
   "execution_count": 16,
   "id": "b211928b",
   "metadata": {
    "execution": {
     "iopub.execute_input": "2023-04-19T17:39:16.036276Z",
     "iopub.status.busy": "2023-04-19T17:39:16.035981Z",
     "iopub.status.idle": "2023-04-19T17:39:16.064181Z",
     "shell.execute_reply": "2023-04-19T17:39:16.063260Z"
    },
    "papermill": {
     "duration": 0.045011,
     "end_time": "2023-04-19T17:39:16.066189",
     "exception": false,
     "start_time": "2023-04-19T17:39:16.021178",
     "status": "completed"
    },
    "tags": []
   },
   "outputs": [],
   "source": [
    "with open(\"/kaggle/input/notebook32a05380f3/clf.pickle\", \"rb\") as f:\n",
    "    clf = pickle.load(f)"
   ]
  },
  {
   "cell_type": "code",
   "execution_count": 17,
   "id": "6e48bcad",
   "metadata": {
    "execution": {
     "iopub.execute_input": "2023-04-19T17:39:16.096891Z",
     "iopub.status.busy": "2023-04-19T17:39:16.095990Z",
     "iopub.status.idle": "2023-04-19T17:39:16.102180Z",
     "shell.execute_reply": "2023-04-19T17:39:16.100719Z"
    },
    "papermill": {
     "duration": 0.023687,
     "end_time": "2023-04-19T17:39:16.104323",
     "exception": false,
     "start_time": "2023-04-19T17:39:16.080636",
     "status": "completed"
    },
    "tags": []
   },
   "outputs": [
    {
     "name": "stdout",
     "output_type": "stream",
     "text": [
      "['x_graphnet-baseline-submission' 'y_graphnet-baseline-submission'\n",
      " 'z_graphnet-baseline-submission' 'sigma'\n",
      " 'x_tensorflow-lstm-model-inference' 'y_tensorflow-lstm-model-inference'\n",
      " 'z_tensorflow-lstm-model-inference' 'x_icecube-inference-run1679802608'\n",
      " 'y_icecube-inference-run1679802608' 'z_icecube-inference-run1679802608'\n",
      " 'x_icecube-inference-run1680668395' 'y_icecube-inference-run1680668395'\n",
      " 'z_icecube-inference-run1680668395' 'x_icecube-inference-run1680866125'\n",
      " 'y_icecube-inference-run1680866125' 'z_icecube-inference-run1680866125'\n",
      " 'x_early-sharing-prize-dynedge-1-046'\n",
      " 'y_early-sharing-prize-dynedge-1-046'\n",
      " 'z_early-sharing-prize-dynedge-1-046' 'hard_to_reconstruct_aux_off'\n",
      " 'hard_to_reconstruct_aux_on']\n"
     ]
    }
   ],
   "source": [
    "print(clf.feature_names_in_)"
   ]
  },
  {
   "cell_type": "code",
   "execution_count": 18,
   "id": "7e87ebf6",
   "metadata": {
    "execution": {
     "iopub.execute_input": "2023-04-19T17:39:16.134000Z",
     "iopub.status.busy": "2023-04-19T17:39:16.133187Z",
     "iopub.status.idle": "2023-04-19T17:39:16.146792Z",
     "shell.execute_reply": "2023-04-19T17:39:16.145743Z"
    },
    "papermill": {
     "duration": 0.030733,
     "end_time": "2023-04-19T17:39:16.148958",
     "exception": false,
     "start_time": "2023-04-19T17:39:16.118225",
     "status": "completed"
    },
    "tags": []
   },
   "outputs": [],
   "source": [
    "pred = clf.predict(df[clf.feature_names_in_])"
   ]
  },
  {
   "cell_type": "code",
   "execution_count": 19,
   "id": "c6406ee8",
   "metadata": {
    "execution": {
     "iopub.execute_input": "2023-04-19T17:39:16.179229Z",
     "iopub.status.busy": "2023-04-19T17:39:16.178177Z",
     "iopub.status.idle": "2023-04-19T17:39:16.188583Z",
     "shell.execute_reply": "2023-04-19T17:39:16.187628Z"
    },
    "papermill": {
     "duration": 0.027689,
     "end_time": "2023-04-19T17:39:16.190731",
     "exception": false,
     "start_time": "2023-04-19T17:39:16.163042",
     "status": "completed"
    },
    "tags": []
   },
   "outputs": [],
   "source": [
    "df[[\"azimuth\", \"zenith\"]] = np.stack(xyz2azzen(pred[:, 0], pred[:, 1], pred[:, 2]), axis=1)\n",
    "df = df.reset_index()[[\"event_id\", \"azimuth\", \"zenith\"]]\n",
    "df = df.sort_values(\"event_id\")\n",
    "df.to_csv(\"submission.csv\", index=False)"
   ]
  },
  {
   "cell_type": "code",
   "execution_count": 20,
   "id": "44fb33ea",
   "metadata": {
    "execution": {
     "iopub.execute_input": "2023-04-19T17:39:16.220385Z",
     "iopub.status.busy": "2023-04-19T17:39:16.219797Z",
     "iopub.status.idle": "2023-04-19T17:39:16.233585Z",
     "shell.execute_reply": "2023-04-19T17:39:16.232447Z"
    },
    "papermill": {
     "duration": 0.03103,
     "end_time": "2023-04-19T17:39:16.235783",
     "exception": false,
     "start_time": "2023-04-19T17:39:16.204753",
     "status": "completed"
    },
    "tags": []
   },
   "outputs": [
    {
     "data": {
      "text/html": [
       "<div>\n",
       "<style scoped>\n",
       "    .dataframe tbody tr th:only-of-type {\n",
       "        vertical-align: middle;\n",
       "    }\n",
       "\n",
       "    .dataframe tbody tr th {\n",
       "        vertical-align: top;\n",
       "    }\n",
       "\n",
       "    .dataframe thead th {\n",
       "        text-align: right;\n",
       "    }\n",
       "</style>\n",
       "<table border=\"1\" class=\"dataframe\">\n",
       "  <thead>\n",
       "    <tr style=\"text-align: right;\">\n",
       "      <th></th>\n",
       "      <th>event_id</th>\n",
       "      <th>azimuth</th>\n",
       "      <th>zenith</th>\n",
       "    </tr>\n",
       "  </thead>\n",
       "  <tbody>\n",
       "    <tr>\n",
       "      <th>0</th>\n",
       "      <td>2092</td>\n",
       "      <td>0.313222</td>\n",
       "      <td>1.692695</td>\n",
       "    </tr>\n",
       "    <tr>\n",
       "      <th>1</th>\n",
       "      <td>7344</td>\n",
       "      <td>3.474258</td>\n",
       "      <td>2.560791</td>\n",
       "    </tr>\n",
       "    <tr>\n",
       "      <th>2</th>\n",
       "      <td>9482</td>\n",
       "      <td>4.582993</td>\n",
       "      <td>1.536461</td>\n",
       "    </tr>\n",
       "  </tbody>\n",
       "</table>\n",
       "</div>"
      ],
      "text/plain": [
       "   event_id   azimuth    zenith\n",
       "0      2092  0.313222  1.692695\n",
       "1      7344  3.474258  2.560791\n",
       "2      9482  4.582993  1.536461"
      ]
     },
     "execution_count": 20,
     "metadata": {},
     "output_type": "execute_result"
    }
   ],
   "source": [
    "df"
   ]
  },
  {
   "cell_type": "code",
   "execution_count": 21,
   "id": "4b641743",
   "metadata": {
    "execution": {
     "iopub.execute_input": "2023-04-19T17:39:16.266056Z",
     "iopub.status.busy": "2023-04-19T17:39:16.265239Z",
     "iopub.status.idle": "2023-04-19T17:39:16.269622Z",
     "shell.execute_reply": "2023-04-19T17:39:16.268660Z"
    },
    "papermill": {
     "duration": 0.021613,
     "end_time": "2023-04-19T17:39:16.271757",
     "exception": false,
     "start_time": "2023-04-19T17:39:16.250144",
     "status": "completed"
    },
    "tags": []
   },
   "outputs": [],
   "source": [
    "#sub = pd.read_parquet(\"/kaggle/input/icecube-neutrinos-in-deep-ice/sample_submission.parquet\")\n",
    "#sub = sub.drop(columns=[\"azimuth\", \"zenith\"])"
   ]
  },
  {
   "cell_type": "code",
   "execution_count": 22,
   "id": "023759be",
   "metadata": {
    "execution": {
     "iopub.execute_input": "2023-04-19T17:39:16.301883Z",
     "iopub.status.busy": "2023-04-19T17:39:16.301082Z",
     "iopub.status.idle": "2023-04-19T17:39:16.305640Z",
     "shell.execute_reply": "2023-04-19T17:39:16.304743Z"
    },
    "papermill": {
     "duration": 0.021811,
     "end_time": "2023-04-19T17:39:16.307777",
     "exception": false,
     "start_time": "2023-04-19T17:39:16.285966",
     "status": "completed"
    },
    "tags": []
   },
   "outputs": [],
   "source": [
    "#sub = sub.merge(df[[\"event_id\", \"azimuth\", \"zenith\"]], how=\"left\", on=\"event_id\")"
   ]
  },
  {
   "cell_type": "code",
   "execution_count": 23,
   "id": "742c5c25",
   "metadata": {
    "execution": {
     "iopub.execute_input": "2023-04-19T17:39:16.337883Z",
     "iopub.status.busy": "2023-04-19T17:39:16.337044Z",
     "iopub.status.idle": "2023-04-19T17:39:16.341645Z",
     "shell.execute_reply": "2023-04-19T17:39:16.340740Z"
    },
    "papermill": {
     "duration": 0.021707,
     "end_time": "2023-04-19T17:39:16.343746",
     "exception": false,
     "start_time": "2023-04-19T17:39:16.322039",
     "status": "completed"
    },
    "tags": []
   },
   "outputs": [],
   "source": [
    "#sub = sub.sort_values(\"event_id\")"
   ]
  },
  {
   "cell_type": "code",
   "execution_count": 24,
   "id": "85d42fdc",
   "metadata": {
    "execution": {
     "iopub.execute_input": "2023-04-19T17:39:16.373947Z",
     "iopub.status.busy": "2023-04-19T17:39:16.373095Z",
     "iopub.status.idle": "2023-04-19T17:39:16.377750Z",
     "shell.execute_reply": "2023-04-19T17:39:16.376837Z"
    },
    "papermill": {
     "duration": 0.021677,
     "end_time": "2023-04-19T17:39:16.379663",
     "exception": false,
     "start_time": "2023-04-19T17:39:16.357986",
     "status": "completed"
    },
    "tags": []
   },
   "outputs": [],
   "source": [
    "#sub"
   ]
  },
  {
   "cell_type": "code",
   "execution_count": 25,
   "id": "e932615b",
   "metadata": {
    "execution": {
     "iopub.execute_input": "2023-04-19T17:39:16.410321Z",
     "iopub.status.busy": "2023-04-19T17:39:16.410013Z",
     "iopub.status.idle": "2023-04-19T17:39:16.414389Z",
     "shell.execute_reply": "2023-04-19T17:39:16.413305Z"
    },
    "papermill": {
     "duration": 0.022471,
     "end_time": "2023-04-19T17:39:16.416507",
     "exception": false,
     "start_time": "2023-04-19T17:39:16.394036",
     "status": "completed"
    },
    "tags": []
   },
   "outputs": [],
   "source": [
    "#sub.to_csv(\"submission.csv\", index = False)"
   ]
  },
  {
   "cell_type": "code",
   "execution_count": null,
   "id": "b8a458e2",
   "metadata": {
    "papermill": {
     "duration": 0.013994,
     "end_time": "2023-04-19T17:39:16.444619",
     "exception": false,
     "start_time": "2023-04-19T17:39:16.430625",
     "status": "completed"
    },
    "tags": []
   },
   "outputs": [],
   "source": []
  },
  {
   "cell_type": "code",
   "execution_count": null,
   "id": "5e85eba5",
   "metadata": {
    "papermill": {
     "duration": 0.013954,
     "end_time": "2023-04-19T17:39:16.472775",
     "exception": false,
     "start_time": "2023-04-19T17:39:16.458821",
     "status": "completed"
    },
    "tags": []
   },
   "outputs": [],
   "source": []
  }
 ],
 "metadata": {
  "kernelspec": {
   "display_name": "Python 3",
   "language": "python",
   "name": "python3"
  },
  "language_info": {
   "codemirror_mode": {
    "name": "ipython",
    "version": 3
   },
   "file_extension": ".py",
   "mimetype": "text/x-python",
   "name": "python",
   "nbconvert_exporter": "python",
   "pygments_lexer": "ipython3",
   "version": "3.7.12"
  },
  "papermill": {
   "default_parameters": {},
   "duration": 710.165307,
   "end_time": "2023-04-19T17:39:20.410096",
   "environment_variables": {},
   "exception": null,
   "input_path": "__notebook__.ipynb",
   "output_path": "__notebook__.ipynb",
   "parameters": {},
   "start_time": "2023-04-19T17:27:30.244789",
   "version": "2.4.0"
  },
  "widgets": {
   "application/vnd.jupyter.widget-state+json": {
    "state": {
     "081ac8b499614b41a56b52e59ee9a79e": {
      "model_module": "@jupyter-widgets/controls",
      "model_module_version": "1.5.0",
      "model_name": "ProgressStyleModel",
      "state": {
       "_model_module": "@jupyter-widgets/controls",
       "_model_module_version": "1.5.0",
       "_model_name": "ProgressStyleModel",
       "_view_count": null,
       "_view_module": "@jupyter-widgets/base",
       "_view_module_version": "1.2.0",
       "_view_name": "StyleView",
       "bar_color": null,
       "description_width": ""
      }
     },
     "09c86a9e51044d11ba55c794394d969b": {
      "model_module": "@jupyter-widgets/base",
      "model_module_version": "1.2.0",
      "model_name": "LayoutModel",
      "state": {
       "_model_module": "@jupyter-widgets/base",
       "_model_module_version": "1.2.0",
       "_model_name": "LayoutModel",
       "_view_count": null,
       "_view_module": "@jupyter-widgets/base",
       "_view_module_version": "1.2.0",
       "_view_name": "LayoutView",
       "align_content": null,
       "align_items": null,
       "align_self": null,
       "border": null,
       "bottom": null,
       "display": null,
       "flex": "2",
       "flex_flow": null,
       "grid_area": null,
       "grid_auto_columns": null,
       "grid_auto_flow": null,
       "grid_auto_rows": null,
       "grid_column": null,
       "grid_gap": null,
       "grid_row": null,
       "grid_template_areas": null,
       "grid_template_columns": null,
       "grid_template_rows": null,
       "height": null,
       "justify_content": null,
       "justify_items": null,
       "left": null,
       "margin": null,
       "max_height": null,
       "max_width": null,
       "min_height": null,
       "min_width": null,
       "object_fit": null,
       "object_position": null,
       "order": null,
       "overflow": null,
       "overflow_x": null,
       "overflow_y": null,
       "padding": null,
       "right": null,
       "top": null,
       "visibility": null,
       "width": null
      }
     },
     "0d14a5c2733d4bb7ba525764a965f004": {
      "model_module": "@jupyter-widgets/controls",
      "model_module_version": "1.5.0",
      "model_name": "HTMLModel",
      "state": {
       "_dom_classes": [],
       "_model_module": "@jupyter-widgets/controls",
       "_model_module_version": "1.5.0",
       "_model_name": "HTMLModel",
       "_view_count": null,
       "_view_module": "@jupyter-widgets/controls",
       "_view_module_version": "1.5.0",
       "_view_name": "HTMLView",
       "description": "",
       "description_tooltip": null,
       "layout": "IPY_MODEL_54d6d623aa464289a0175a54cd84d862",
       "placeholder": "​",
       "style": "IPY_MODEL_6cebaa2e55bb4c5c9a1a1b71380215a0",
       "value": " 1/1 [00:00&lt;00:00,  6.16it/s]"
      }
     },
     "10d6723b89ae46f68999f7fb17207fc6": {
      "model_module": "@jupyter-widgets/controls",
      "model_module_version": "1.5.0",
      "model_name": "ProgressStyleModel",
      "state": {
       "_model_module": "@jupyter-widgets/controls",
       "_model_module_version": "1.5.0",
       "_model_name": "ProgressStyleModel",
       "_view_count": null,
       "_view_module": "@jupyter-widgets/base",
       "_view_module_version": "1.2.0",
       "_view_name": "StyleView",
       "bar_color": null,
       "description_width": ""
      }
     },
     "1a8dc3c3b7e14a968157160537748e73": {
      "model_module": "@jupyter-widgets/base",
      "model_module_version": "1.2.0",
      "model_name": "LayoutModel",
      "state": {
       "_model_module": "@jupyter-widgets/base",
       "_model_module_version": "1.2.0",
       "_model_name": "LayoutModel",
       "_view_count": null,
       "_view_module": "@jupyter-widgets/base",
       "_view_module_version": "1.2.0",
       "_view_name": "LayoutView",
       "align_content": null,
       "align_items": null,
       "align_self": null,
       "border": null,
       "bottom": null,
       "display": null,
       "flex": null,
       "flex_flow": null,
       "grid_area": null,
       "grid_auto_columns": null,
       "grid_auto_flow": null,
       "grid_auto_rows": null,
       "grid_column": null,
       "grid_gap": null,
       "grid_row": null,
       "grid_template_areas": null,
       "grid_template_columns": null,
       "grid_template_rows": null,
       "height": null,
       "justify_content": null,
       "justify_items": null,
       "left": null,
       "margin": null,
       "max_height": null,
       "max_width": null,
       "min_height": null,
       "min_width": null,
       "object_fit": null,
       "object_position": null,
       "order": null,
       "overflow": null,
       "overflow_x": null,
       "overflow_y": null,
       "padding": null,
       "right": null,
       "top": null,
       "visibility": null,
       "width": null
      }
     },
     "1e11ee72eccb487d9199bb002bd33f06": {
      "model_module": "@jupyter-widgets/base",
      "model_module_version": "1.2.0",
      "model_name": "LayoutModel",
      "state": {
       "_model_module": "@jupyter-widgets/base",
       "_model_module_version": "1.2.0",
       "_model_name": "LayoutModel",
       "_view_count": null,
       "_view_module": "@jupyter-widgets/base",
       "_view_module_version": "1.2.0",
       "_view_name": "LayoutView",
       "align_content": null,
       "align_items": null,
       "align_self": null,
       "border": null,
       "bottom": null,
       "display": null,
       "flex": null,
       "flex_flow": null,
       "grid_area": null,
       "grid_auto_columns": null,
       "grid_auto_flow": null,
       "grid_auto_rows": null,
       "grid_column": null,
       "grid_gap": null,
       "grid_row": null,
       "grid_template_areas": null,
       "grid_template_columns": null,
       "grid_template_rows": null,
       "height": null,
       "justify_content": null,
       "justify_items": null,
       "left": null,
       "margin": null,
       "max_height": null,
       "max_width": null,
       "min_height": null,
       "min_width": null,
       "object_fit": null,
       "object_position": null,
       "order": null,
       "overflow": null,
       "overflow_x": null,
       "overflow_y": null,
       "padding": null,
       "right": null,
       "top": null,
       "visibility": null,
       "width": null
      }
     },
     "1fe64c9bc1f4465d81f961758cd13722": {
      "model_module": "@jupyter-widgets/controls",
      "model_module_version": "1.5.0",
      "model_name": "ProgressStyleModel",
      "state": {
       "_model_module": "@jupyter-widgets/controls",
       "_model_module_version": "1.5.0",
       "_model_name": "ProgressStyleModel",
       "_view_count": null,
       "_view_module": "@jupyter-widgets/base",
       "_view_module_version": "1.2.0",
       "_view_name": "StyleView",
       "bar_color": null,
       "description_width": ""
      }
     },
     "2dc21aa1ebad4522a01f7bad22539792": {
      "model_module": "@jupyter-widgets/base",
      "model_module_version": "1.2.0",
      "model_name": "LayoutModel",
      "state": {
       "_model_module": "@jupyter-widgets/base",
       "_model_module_version": "1.2.0",
       "_model_name": "LayoutModel",
       "_view_count": null,
       "_view_module": "@jupyter-widgets/base",
       "_view_module_version": "1.2.0",
       "_view_name": "LayoutView",
       "align_content": null,
       "align_items": null,
       "align_self": null,
       "border": null,
       "bottom": null,
       "display": null,
       "flex": null,
       "flex_flow": null,
       "grid_area": null,
       "grid_auto_columns": null,
       "grid_auto_flow": null,
       "grid_auto_rows": null,
       "grid_column": null,
       "grid_gap": null,
       "grid_row": null,
       "grid_template_areas": null,
       "grid_template_columns": null,
       "grid_template_rows": null,
       "height": null,
       "justify_content": null,
       "justify_items": null,
       "left": null,
       "margin": null,
       "max_height": null,
       "max_width": null,
       "min_height": null,
       "min_width": null,
       "object_fit": null,
       "object_position": null,
       "order": null,
       "overflow": null,
       "overflow_x": null,
       "overflow_y": null,
       "padding": null,
       "right": null,
       "top": null,
       "visibility": null,
       "width": null
      }
     },
     "37c4eb8d434b4d9eb75d030aa947d568": {
      "model_module": "@jupyter-widgets/base",
      "model_module_version": "1.2.0",
      "model_name": "LayoutModel",
      "state": {
       "_model_module": "@jupyter-widgets/base",
       "_model_module_version": "1.2.0",
       "_model_name": "LayoutModel",
       "_view_count": null,
       "_view_module": "@jupyter-widgets/base",
       "_view_module_version": "1.2.0",
       "_view_name": "LayoutView",
       "align_content": null,
       "align_items": null,
       "align_self": null,
       "border": null,
       "bottom": null,
       "display": null,
       "flex": null,
       "flex_flow": null,
       "grid_area": null,
       "grid_auto_columns": null,
       "grid_auto_flow": null,
       "grid_auto_rows": null,
       "grid_column": null,
       "grid_gap": null,
       "grid_row": null,
       "grid_template_areas": null,
       "grid_template_columns": null,
       "grid_template_rows": null,
       "height": null,
       "justify_content": null,
       "justify_items": null,
       "left": null,
       "margin": null,
       "max_height": null,
       "max_width": null,
       "min_height": null,
       "min_width": null,
       "object_fit": null,
       "object_position": null,
       "order": null,
       "overflow": null,
       "overflow_x": null,
       "overflow_y": null,
       "padding": null,
       "right": null,
       "top": null,
       "visibility": null,
       "width": "20px"
      }
     },
     "43d6b9da837942af9822ce8692e4b76f": {
      "model_module": "@jupyter-widgets/controls",
      "model_module_version": "1.5.0",
      "model_name": "HBoxModel",
      "state": {
       "_dom_classes": [],
       "_model_module": "@jupyter-widgets/controls",
       "_model_module_version": "1.5.0",
       "_model_name": "HBoxModel",
       "_view_count": null,
       "_view_module": "@jupyter-widgets/controls",
       "_view_module_version": "1.5.0",
       "_view_name": "HBoxView",
       "box_style": "",
       "children": [
        "IPY_MODEL_776417b4c0364c07b56a9e11960e2ad1",
        "IPY_MODEL_a9afbf88fa8448aaadc5ee027bf385d3",
        "IPY_MODEL_6efe71a4482f4f06a8ae303d5d72fa3a"
       ],
       "layout": "IPY_MODEL_67c882f0e5ae4b2fa188e0b858e8549d"
      }
     },
     "4bbb3e0e4e5143e485841200e28f7f44": {
      "model_module": "@jupyter-widgets/controls",
      "model_module_version": "1.5.0",
      "model_name": "HTMLModel",
      "state": {
       "_dom_classes": [],
       "_model_module": "@jupyter-widgets/controls",
       "_model_module_version": "1.5.0",
       "_model_name": "HTMLModel",
       "_view_count": null,
       "_view_module": "@jupyter-widgets/controls",
       "_view_module_version": "1.5.0",
       "_view_name": "HTMLView",
       "description": "",
       "description_tooltip": null,
       "layout": "IPY_MODEL_2dc21aa1ebad4522a01f7bad22539792",
       "placeholder": "​",
       "style": "IPY_MODEL_f80997a53bec4d7487692573f4b74007",
       "value": " 1/0 [00:00&lt;00:00,  6.49it/s]"
      }
     },
     "4fdeb33f1ec440eda0add9051790d5d9": {
      "model_module": "@jupyter-widgets/base",
      "model_module_version": "1.2.0",
      "model_name": "LayoutModel",
      "state": {
       "_model_module": "@jupyter-widgets/base",
       "_model_module_version": "1.2.0",
       "_model_name": "LayoutModel",
       "_view_count": null,
       "_view_module": "@jupyter-widgets/base",
       "_view_module_version": "1.2.0",
       "_view_name": "LayoutView",
       "align_content": null,
       "align_items": null,
       "align_self": null,
       "border": null,
       "bottom": null,
       "display": "inline-flex",
       "flex": null,
       "flex_flow": "row wrap",
       "grid_area": null,
       "grid_auto_columns": null,
       "grid_auto_flow": null,
       "grid_auto_rows": null,
       "grid_column": null,
       "grid_gap": null,
       "grid_row": null,
       "grid_template_areas": null,
       "grid_template_columns": null,
       "grid_template_rows": null,
       "height": null,
       "justify_content": null,
       "justify_items": null,
       "left": null,
       "margin": null,
       "max_height": null,
       "max_width": null,
       "min_height": null,
       "min_width": null,
       "object_fit": null,
       "object_position": null,
       "order": null,
       "overflow": null,
       "overflow_x": null,
       "overflow_y": null,
       "padding": null,
       "right": null,
       "top": null,
       "visibility": null,
       "width": "100%"
      }
     },
     "54d6d623aa464289a0175a54cd84d862": {
      "model_module": "@jupyter-widgets/base",
      "model_module_version": "1.2.0",
      "model_name": "LayoutModel",
      "state": {
       "_model_module": "@jupyter-widgets/base",
       "_model_module_version": "1.2.0",
       "_model_name": "LayoutModel",
       "_view_count": null,
       "_view_module": "@jupyter-widgets/base",
       "_view_module_version": "1.2.0",
       "_view_name": "LayoutView",
       "align_content": null,
       "align_items": null,
       "align_self": null,
       "border": null,
       "bottom": null,
       "display": null,
       "flex": null,
       "flex_flow": null,
       "grid_area": null,
       "grid_auto_columns": null,
       "grid_auto_flow": null,
       "grid_auto_rows": null,
       "grid_column": null,
       "grid_gap": null,
       "grid_row": null,
       "grid_template_areas": null,
       "grid_template_columns": null,
       "grid_template_rows": null,
       "height": null,
       "justify_content": null,
       "justify_items": null,
       "left": null,
       "margin": null,
       "max_height": null,
       "max_width": null,
       "min_height": null,
       "min_width": null,
       "object_fit": null,
       "object_position": null,
       "order": null,
       "overflow": null,
       "overflow_x": null,
       "overflow_y": null,
       "padding": null,
       "right": null,
       "top": null,
       "visibility": null,
       "width": null
      }
     },
     "55a28868cb3c49aeb48622a44f515921": {
      "model_module": "@jupyter-widgets/base",
      "model_module_version": "1.2.0",
      "model_name": "LayoutModel",
      "state": {
       "_model_module": "@jupyter-widgets/base",
       "_model_module_version": "1.2.0",
       "_model_name": "LayoutModel",
       "_view_count": null,
       "_view_module": "@jupyter-widgets/base",
       "_view_module_version": "1.2.0",
       "_view_name": "LayoutView",
       "align_content": null,
       "align_items": null,
       "align_self": null,
       "border": null,
       "bottom": null,
       "display": null,
       "flex": null,
       "flex_flow": null,
       "grid_area": null,
       "grid_auto_columns": null,
       "grid_auto_flow": null,
       "grid_auto_rows": null,
       "grid_column": null,
       "grid_gap": null,
       "grid_row": null,
       "grid_template_areas": null,
       "grid_template_columns": null,
       "grid_template_rows": null,
       "height": null,
       "justify_content": null,
       "justify_items": null,
       "left": null,
       "margin": null,
       "max_height": null,
       "max_width": null,
       "min_height": null,
       "min_width": null,
       "object_fit": null,
       "object_position": null,
       "order": null,
       "overflow": null,
       "overflow_x": null,
       "overflow_y": null,
       "padding": null,
       "right": null,
       "top": null,
       "visibility": null,
       "width": "20px"
      }
     },
     "560ef83451364dcdac27c17d994cda2e": {
      "model_module": "@jupyter-widgets/controls",
      "model_module_version": "1.5.0",
      "model_name": "DescriptionStyleModel",
      "state": {
       "_model_module": "@jupyter-widgets/controls",
       "_model_module_version": "1.5.0",
       "_model_name": "DescriptionStyleModel",
       "_view_count": null,
       "_view_module": "@jupyter-widgets/base",
       "_view_module_version": "1.2.0",
       "_view_name": "StyleView",
       "description_width": ""
      }
     },
     "609978b6d8f542349baa11a6b1b5ab4b": {
      "model_module": "@jupyter-widgets/controls",
      "model_module_version": "1.5.0",
      "model_name": "FloatProgressModel",
      "state": {
       "_dom_classes": [],
       "_model_module": "@jupyter-widgets/controls",
       "_model_module_version": "1.5.0",
       "_model_name": "FloatProgressModel",
       "_view_count": null,
       "_view_module": "@jupyter-widgets/controls",
       "_view_module_version": "1.5.0",
       "_view_name": "ProgressView",
       "bar_style": "success",
       "description": "",
       "description_tooltip": null,
       "layout": "IPY_MODEL_37c4eb8d434b4d9eb75d030aa947d568",
       "max": 1.0,
       "min": 0.0,
       "orientation": "horizontal",
       "style": "IPY_MODEL_da43e212ff2445b484a288d0dbd059f0",
       "value": 1.0
      }
     },
     "636c1a0a901b4ab7a5e0788f35cd6587": {
      "model_module": "@jupyter-widgets/base",
      "model_module_version": "1.2.0",
      "model_name": "LayoutModel",
      "state": {
       "_model_module": "@jupyter-widgets/base",
       "_model_module_version": "1.2.0",
       "_model_name": "LayoutModel",
       "_view_count": null,
       "_view_module": "@jupyter-widgets/base",
       "_view_module_version": "1.2.0",
       "_view_name": "LayoutView",
       "align_content": null,
       "align_items": null,
       "align_self": null,
       "border": null,
       "bottom": null,
       "display": null,
       "flex": null,
       "flex_flow": null,
       "grid_area": null,
       "grid_auto_columns": null,
       "grid_auto_flow": null,
       "grid_auto_rows": null,
       "grid_column": null,
       "grid_gap": null,
       "grid_row": null,
       "grid_template_areas": null,
       "grid_template_columns": null,
       "grid_template_rows": null,
       "height": null,
       "justify_content": null,
       "justify_items": null,
       "left": null,
       "margin": null,
       "max_height": null,
       "max_width": null,
       "min_height": null,
       "min_width": null,
       "object_fit": null,
       "object_position": null,
       "order": null,
       "overflow": null,
       "overflow_x": null,
       "overflow_y": null,
       "padding": null,
       "right": null,
       "top": null,
       "visibility": null,
       "width": null
      }
     },
     "67c882f0e5ae4b2fa188e0b858e8549d": {
      "model_module": "@jupyter-widgets/base",
      "model_module_version": "1.2.0",
      "model_name": "LayoutModel",
      "state": {
       "_model_module": "@jupyter-widgets/base",
       "_model_module_version": "1.2.0",
       "_model_name": "LayoutModel",
       "_view_count": null,
       "_view_module": "@jupyter-widgets/base",
       "_view_module_version": "1.2.0",
       "_view_name": "LayoutView",
       "align_content": null,
       "align_items": null,
       "align_self": null,
       "border": null,
       "bottom": null,
       "display": null,
       "flex": null,
       "flex_flow": null,
       "grid_area": null,
       "grid_auto_columns": null,
       "grid_auto_flow": null,
       "grid_auto_rows": null,
       "grid_column": null,
       "grid_gap": null,
       "grid_row": null,
       "grid_template_areas": null,
       "grid_template_columns": null,
       "grid_template_rows": null,
       "height": null,
       "justify_content": null,
       "justify_items": null,
       "left": null,
       "margin": null,
       "max_height": null,
       "max_width": null,
       "min_height": null,
       "min_width": null,
       "object_fit": null,
       "object_position": null,
       "order": null,
       "overflow": null,
       "overflow_x": null,
       "overflow_y": null,
       "padding": null,
       "right": null,
       "top": null,
       "visibility": null,
       "width": null
      }
     },
     "6cebaa2e55bb4c5c9a1a1b71380215a0": {
      "model_module": "@jupyter-widgets/controls",
      "model_module_version": "1.5.0",
      "model_name": "DescriptionStyleModel",
      "state": {
       "_model_module": "@jupyter-widgets/controls",
       "_model_module_version": "1.5.0",
       "_model_name": "DescriptionStyleModel",
       "_view_count": null,
       "_view_module": "@jupyter-widgets/base",
       "_view_module_version": "1.2.0",
       "_view_name": "StyleView",
       "description_width": ""
      }
     },
     "6efe71a4482f4f06a8ae303d5d72fa3a": {
      "model_module": "@jupyter-widgets/controls",
      "model_module_version": "1.5.0",
      "model_name": "HTMLModel",
      "state": {
       "_dom_classes": [],
       "_model_module": "@jupyter-widgets/controls",
       "_model_module_version": "1.5.0",
       "_model_name": "HTMLModel",
       "_view_count": null,
       "_view_module": "@jupyter-widgets/controls",
       "_view_module_version": "1.5.0",
       "_view_name": "HTMLView",
       "description": "",
       "description_tooltip": null,
       "layout": "IPY_MODEL_1e11ee72eccb487d9199bb002bd33f06",
       "placeholder": "​",
       "style": "IPY_MODEL_7bd9ddade3be45e7b4973f7d3d0d0c4f",
       "value": " 1/0 [00:00&lt;00:00, 15.69it/s]"
      }
     },
     "7761a0e571124cb1aa71d2657cadbde6": {
      "model_module": "@jupyter-widgets/controls",
      "model_module_version": "1.5.0",
      "model_name": "FloatProgressModel",
      "state": {
       "_dom_classes": [],
       "_model_module": "@jupyter-widgets/controls",
       "_model_module_version": "1.5.0",
       "_model_name": "FloatProgressModel",
       "_view_count": null,
       "_view_module": "@jupyter-widgets/controls",
       "_view_module_version": "1.5.0",
       "_view_name": "ProgressView",
       "bar_style": "success",
       "description": "",
       "description_tooltip": null,
       "layout": "IPY_MODEL_7e196de1492442e481971fb50f4cc6b8",
       "max": 1.0,
       "min": 0.0,
       "orientation": "horizontal",
       "style": "IPY_MODEL_10d6723b89ae46f68999f7fb17207fc6",
       "value": 1.0
      }
     },
     "776417b4c0364c07b56a9e11960e2ad1": {
      "model_module": "@jupyter-widgets/controls",
      "model_module_version": "1.5.0",
      "model_name": "HTMLModel",
      "state": {
       "_dom_classes": [],
       "_model_module": "@jupyter-widgets/controls",
       "_model_module_version": "1.5.0",
       "_model_name": "HTMLModel",
       "_view_count": null,
       "_view_module": "@jupyter-widgets/controls",
       "_view_module_version": "1.5.0",
       "_view_name": "HTMLView",
       "description": "",
       "description_tooltip": null,
       "layout": "IPY_MODEL_a7ef27dcfff34d0682b244b9c1a432c6",
       "placeholder": "​",
       "style": "IPY_MODEL_d1db82665edb426a831ae4538c6aa022",
       "value": ""
      }
     },
     "7a7a5ebb058f4b6e97fd7ac5ac5f945b": {
      "model_module": "@jupyter-widgets/base",
      "model_module_version": "1.2.0",
      "model_name": "LayoutModel",
      "state": {
       "_model_module": "@jupyter-widgets/base",
       "_model_module_version": "1.2.0",
       "_model_name": "LayoutModel",
       "_view_count": null,
       "_view_module": "@jupyter-widgets/base",
       "_view_module_version": "1.2.0",
       "_view_name": "LayoutView",
       "align_content": null,
       "align_items": null,
       "align_self": null,
       "border": null,
       "bottom": null,
       "display": null,
       "flex": null,
       "flex_flow": null,
       "grid_area": null,
       "grid_auto_columns": null,
       "grid_auto_flow": null,
       "grid_auto_rows": null,
       "grid_column": null,
       "grid_gap": null,
       "grid_row": null,
       "grid_template_areas": null,
       "grid_template_columns": null,
       "grid_template_rows": null,
       "height": null,
       "justify_content": null,
       "justify_items": null,
       "left": null,
       "margin": null,
       "max_height": null,
       "max_width": null,
       "min_height": null,
       "min_width": null,
       "object_fit": null,
       "object_position": null,
       "order": null,
       "overflow": null,
       "overflow_x": null,
       "overflow_y": null,
       "padding": null,
       "right": null,
       "top": null,
       "visibility": null,
       "width": null
      }
     },
     "7bd9ddade3be45e7b4973f7d3d0d0c4f": {
      "model_module": "@jupyter-widgets/controls",
      "model_module_version": "1.5.0",
      "model_name": "DescriptionStyleModel",
      "state": {
       "_model_module": "@jupyter-widgets/controls",
       "_model_module_version": "1.5.0",
       "_model_name": "DescriptionStyleModel",
       "_view_count": null,
       "_view_module": "@jupyter-widgets/base",
       "_view_module_version": "1.2.0",
       "_view_name": "StyleView",
       "description_width": ""
      }
     },
     "7e196de1492442e481971fb50f4cc6b8": {
      "model_module": "@jupyter-widgets/base",
      "model_module_version": "1.2.0",
      "model_name": "LayoutModel",
      "state": {
       "_model_module": "@jupyter-widgets/base",
       "_model_module_version": "1.2.0",
       "_model_name": "LayoutModel",
       "_view_count": null,
       "_view_module": "@jupyter-widgets/base",
       "_view_module_version": "1.2.0",
       "_view_name": "LayoutView",
       "align_content": null,
       "align_items": null,
       "align_self": null,
       "border": null,
       "bottom": null,
       "display": null,
       "flex": null,
       "flex_flow": null,
       "grid_area": null,
       "grid_auto_columns": null,
       "grid_auto_flow": null,
       "grid_auto_rows": null,
       "grid_column": null,
       "grid_gap": null,
       "grid_row": null,
       "grid_template_areas": null,
       "grid_template_columns": null,
       "grid_template_rows": null,
       "height": null,
       "justify_content": null,
       "justify_items": null,
       "left": null,
       "margin": null,
       "max_height": null,
       "max_width": null,
       "min_height": null,
       "min_width": null,
       "object_fit": null,
       "object_position": null,
       "order": null,
       "overflow": null,
       "overflow_x": null,
       "overflow_y": null,
       "padding": null,
       "right": null,
       "top": null,
       "visibility": null,
       "width": "20px"
      }
     },
     "7ea8966397344b07a02caece064a5ac4": {
      "model_module": "@jupyter-widgets/controls",
      "model_module_version": "1.5.0",
      "model_name": "HBoxModel",
      "state": {
       "_dom_classes": [],
       "_model_module": "@jupyter-widgets/controls",
       "_model_module_version": "1.5.0",
       "_model_name": "HBoxModel",
       "_view_count": null,
       "_view_module": "@jupyter-widgets/controls",
       "_view_module_version": "1.5.0",
       "_view_name": "HBoxView",
       "box_style": "",
       "children": [
        "IPY_MODEL_d7ca36b2e6c14527b5295ab7865030d6",
        "IPY_MODEL_e36efc3b8dc84d48bd58ede263761806",
        "IPY_MODEL_0d14a5c2733d4bb7ba525764a965f004"
       ],
       "layout": "IPY_MODEL_4fdeb33f1ec440eda0add9051790d5d9"
      }
     },
     "86c697879ece4707b983122b2c8b1339": {
      "model_module": "@jupyter-widgets/controls",
      "model_module_version": "1.5.0",
      "model_name": "HTMLModel",
      "state": {
       "_dom_classes": [],
       "_model_module": "@jupyter-widgets/controls",
       "_model_module_version": "1.5.0",
       "_model_name": "HTMLModel",
       "_view_count": null,
       "_view_module": "@jupyter-widgets/controls",
       "_view_module_version": "1.5.0",
       "_view_name": "HTMLView",
       "description": "",
       "description_tooltip": null,
       "layout": "IPY_MODEL_8d90d645fe2443ac98f417f447a4e673",
       "placeholder": "​",
       "style": "IPY_MODEL_560ef83451364dcdac27c17d994cda2e",
       "value": ""
      }
     },
     "8d90d645fe2443ac98f417f447a4e673": {
      "model_module": "@jupyter-widgets/base",
      "model_module_version": "1.2.0",
      "model_name": "LayoutModel",
      "state": {
       "_model_module": "@jupyter-widgets/base",
       "_model_module_version": "1.2.0",
       "_model_name": "LayoutModel",
       "_view_count": null,
       "_view_module": "@jupyter-widgets/base",
       "_view_module_version": "1.2.0",
       "_view_name": "LayoutView",
       "align_content": null,
       "align_items": null,
       "align_self": null,
       "border": null,
       "bottom": null,
       "display": null,
       "flex": null,
       "flex_flow": null,
       "grid_area": null,
       "grid_auto_columns": null,
       "grid_auto_flow": null,
       "grid_auto_rows": null,
       "grid_column": null,
       "grid_gap": null,
       "grid_row": null,
       "grid_template_areas": null,
       "grid_template_columns": null,
       "grid_template_rows": null,
       "height": null,
       "justify_content": null,
       "justify_items": null,
       "left": null,
       "margin": null,
       "max_height": null,
       "max_width": null,
       "min_height": null,
       "min_width": null,
       "object_fit": null,
       "object_position": null,
       "order": null,
       "overflow": null,
       "overflow_x": null,
       "overflow_y": null,
       "padding": null,
       "right": null,
       "top": null,
       "visibility": null,
       "width": null
      }
     },
     "8e82fc976aaf4a7988267d92e391e4eb": {
      "model_module": "@jupyter-widgets/base",
      "model_module_version": "1.2.0",
      "model_name": "LayoutModel",
      "state": {
       "_model_module": "@jupyter-widgets/base",
       "_model_module_version": "1.2.0",
       "_model_name": "LayoutModel",
       "_view_count": null,
       "_view_module": "@jupyter-widgets/base",
       "_view_module_version": "1.2.0",
       "_view_name": "LayoutView",
       "align_content": null,
       "align_items": null,
       "align_self": null,
       "border": null,
       "bottom": null,
       "display": null,
       "flex": null,
       "flex_flow": null,
       "grid_area": null,
       "grid_auto_columns": null,
       "grid_auto_flow": null,
       "grid_auto_rows": null,
       "grid_column": null,
       "grid_gap": null,
       "grid_row": null,
       "grid_template_areas": null,
       "grid_template_columns": null,
       "grid_template_rows": null,
       "height": null,
       "justify_content": null,
       "justify_items": null,
       "left": null,
       "margin": null,
       "max_height": null,
       "max_width": null,
       "min_height": null,
       "min_width": null,
       "object_fit": null,
       "object_position": null,
       "order": null,
       "overflow": null,
       "overflow_x": null,
       "overflow_y": null,
       "padding": null,
       "right": null,
       "top": null,
       "visibility": null,
       "width": null
      }
     },
     "a7ef27dcfff34d0682b244b9c1a432c6": {
      "model_module": "@jupyter-widgets/base",
      "model_module_version": "1.2.0",
      "model_name": "LayoutModel",
      "state": {
       "_model_module": "@jupyter-widgets/base",
       "_model_module_version": "1.2.0",
       "_model_name": "LayoutModel",
       "_view_count": null,
       "_view_module": "@jupyter-widgets/base",
       "_view_module_version": "1.2.0",
       "_view_name": "LayoutView",
       "align_content": null,
       "align_items": null,
       "align_self": null,
       "border": null,
       "bottom": null,
       "display": null,
       "flex": null,
       "flex_flow": null,
       "grid_area": null,
       "grid_auto_columns": null,
       "grid_auto_flow": null,
       "grid_auto_rows": null,
       "grid_column": null,
       "grid_gap": null,
       "grid_row": null,
       "grid_template_areas": null,
       "grid_template_columns": null,
       "grid_template_rows": null,
       "height": null,
       "justify_content": null,
       "justify_items": null,
       "left": null,
       "margin": null,
       "max_height": null,
       "max_width": null,
       "min_height": null,
       "min_width": null,
       "object_fit": null,
       "object_position": null,
       "order": null,
       "overflow": null,
       "overflow_x": null,
       "overflow_y": null,
       "padding": null,
       "right": null,
       "top": null,
       "visibility": null,
       "width": null
      }
     },
     "a8be447a96e74df7a8538398805ff2ae": {
      "model_module": "@jupyter-widgets/controls",
      "model_module_version": "1.5.0",
      "model_name": "HBoxModel",
      "state": {
       "_dom_classes": [],
       "_model_module": "@jupyter-widgets/controls",
       "_model_module_version": "1.5.0",
       "_model_name": "HBoxModel",
       "_view_count": null,
       "_view_module": "@jupyter-widgets/controls",
       "_view_module_version": "1.5.0",
       "_view_name": "HBoxView",
       "box_style": "",
       "children": [
        "IPY_MODEL_f72cbcebafb6455480faf84e39eaa1c0",
        "IPY_MODEL_7761a0e571124cb1aa71d2657cadbde6",
        "IPY_MODEL_dcd04d46d83a47089ec404da46bfe104"
       ],
       "layout": "IPY_MODEL_7a7a5ebb058f4b6e97fd7ac5ac5f945b"
      }
     },
     "a9afbf88fa8448aaadc5ee027bf385d3": {
      "model_module": "@jupyter-widgets/controls",
      "model_module_version": "1.5.0",
      "model_name": "FloatProgressModel",
      "state": {
       "_dom_classes": [],
       "_model_module": "@jupyter-widgets/controls",
       "_model_module_version": "1.5.0",
       "_model_name": "FloatProgressModel",
       "_view_count": null,
       "_view_module": "@jupyter-widgets/controls",
       "_view_module_version": "1.5.0",
       "_view_name": "ProgressView",
       "bar_style": "success",
       "description": "",
       "description_tooltip": null,
       "layout": "IPY_MODEL_55a28868cb3c49aeb48622a44f515921",
       "max": 1.0,
       "min": 0.0,
       "orientation": "horizontal",
       "style": "IPY_MODEL_081ac8b499614b41a56b52e59ee9a79e",
       "value": 1.0
      }
     },
     "aa3de6acdd4c44278d86f7526615e70e": {
      "model_module": "@jupyter-widgets/controls",
      "model_module_version": "1.5.0",
      "model_name": "DescriptionStyleModel",
      "state": {
       "_model_module": "@jupyter-widgets/controls",
       "_model_module_version": "1.5.0",
       "_model_name": "DescriptionStyleModel",
       "_view_count": null,
       "_view_module": "@jupyter-widgets/base",
       "_view_module_version": "1.2.0",
       "_view_name": "StyleView",
       "description_width": ""
      }
     },
     "d1db82665edb426a831ae4538c6aa022": {
      "model_module": "@jupyter-widgets/controls",
      "model_module_version": "1.5.0",
      "model_name": "DescriptionStyleModel",
      "state": {
       "_model_module": "@jupyter-widgets/controls",
       "_model_module_version": "1.5.0",
       "_model_name": "DescriptionStyleModel",
       "_view_count": null,
       "_view_module": "@jupyter-widgets/base",
       "_view_module_version": "1.2.0",
       "_view_name": "StyleView",
       "description_width": ""
      }
     },
     "d7ca36b2e6c14527b5295ab7865030d6": {
      "model_module": "@jupyter-widgets/controls",
      "model_module_version": "1.5.0",
      "model_name": "HTMLModel",
      "state": {
       "_dom_classes": [],
       "_model_module": "@jupyter-widgets/controls",
       "_model_module_version": "1.5.0",
       "_model_name": "HTMLModel",
       "_view_count": null,
       "_view_module": "@jupyter-widgets/controls",
       "_view_module_version": "1.5.0",
       "_view_name": "HTMLView",
       "description": "",
       "description_tooltip": null,
       "layout": "IPY_MODEL_ec2881a6dfe945e390744dfef53686ca",
       "placeholder": "​",
       "style": "IPY_MODEL_fc2926ccb4e341458e9672fba4a3d9ed",
       "value": "Predicting DataLoader 0: 100%"
      }
     },
     "da43e212ff2445b484a288d0dbd059f0": {
      "model_module": "@jupyter-widgets/controls",
      "model_module_version": "1.5.0",
      "model_name": "ProgressStyleModel",
      "state": {
       "_model_module": "@jupyter-widgets/controls",
       "_model_module_version": "1.5.0",
       "_model_name": "ProgressStyleModel",
       "_view_count": null,
       "_view_module": "@jupyter-widgets/base",
       "_view_module_version": "1.2.0",
       "_view_name": "StyleView",
       "bar_color": null,
       "description_width": ""
      }
     },
     "dc2a8c6690ab49d69ae7f82992bb4a17": {
      "model_module": "@jupyter-widgets/controls",
      "model_module_version": "1.5.0",
      "model_name": "HBoxModel",
      "state": {
       "_dom_classes": [],
       "_model_module": "@jupyter-widgets/controls",
       "_model_module_version": "1.5.0",
       "_model_name": "HBoxModel",
       "_view_count": null,
       "_view_module": "@jupyter-widgets/controls",
       "_view_module_version": "1.5.0",
       "_view_name": "HBoxView",
       "box_style": "",
       "children": [
        "IPY_MODEL_86c697879ece4707b983122b2c8b1339",
        "IPY_MODEL_609978b6d8f542349baa11a6b1b5ab4b",
        "IPY_MODEL_4bbb3e0e4e5143e485841200e28f7f44"
       ],
       "layout": "IPY_MODEL_636c1a0a901b4ab7a5e0788f35cd6587"
      }
     },
     "dcd04d46d83a47089ec404da46bfe104": {
      "model_module": "@jupyter-widgets/controls",
      "model_module_version": "1.5.0",
      "model_name": "HTMLModel",
      "state": {
       "_dom_classes": [],
       "_model_module": "@jupyter-widgets/controls",
       "_model_module_version": "1.5.0",
       "_model_name": "HTMLModel",
       "_view_count": null,
       "_view_module": "@jupyter-widgets/controls",
       "_view_module_version": "1.5.0",
       "_view_name": "HTMLView",
       "description": "",
       "description_tooltip": null,
       "layout": "IPY_MODEL_8e82fc976aaf4a7988267d92e391e4eb",
       "placeholder": "​",
       "style": "IPY_MODEL_fa85cedff6a844b288adfd827f44779e",
       "value": " 1/0 [00:00&lt;00:00, 16.20it/s]"
      }
     },
     "e36efc3b8dc84d48bd58ede263761806": {
      "model_module": "@jupyter-widgets/controls",
      "model_module_version": "1.5.0",
      "model_name": "FloatProgressModel",
      "state": {
       "_dom_classes": [],
       "_model_module": "@jupyter-widgets/controls",
       "_model_module_version": "1.5.0",
       "_model_name": "FloatProgressModel",
       "_view_count": null,
       "_view_module": "@jupyter-widgets/controls",
       "_view_module_version": "1.5.0",
       "_view_name": "ProgressView",
       "bar_style": "success",
       "description": "",
       "description_tooltip": null,
       "layout": "IPY_MODEL_09c86a9e51044d11ba55c794394d969b",
       "max": 1.0,
       "min": 0.0,
       "orientation": "horizontal",
       "style": "IPY_MODEL_1fe64c9bc1f4465d81f961758cd13722",
       "value": 1.0
      }
     },
     "ec2881a6dfe945e390744dfef53686ca": {
      "model_module": "@jupyter-widgets/base",
      "model_module_version": "1.2.0",
      "model_name": "LayoutModel",
      "state": {
       "_model_module": "@jupyter-widgets/base",
       "_model_module_version": "1.2.0",
       "_model_name": "LayoutModel",
       "_view_count": null,
       "_view_module": "@jupyter-widgets/base",
       "_view_module_version": "1.2.0",
       "_view_name": "LayoutView",
       "align_content": null,
       "align_items": null,
       "align_self": null,
       "border": null,
       "bottom": null,
       "display": null,
       "flex": null,
       "flex_flow": null,
       "grid_area": null,
       "grid_auto_columns": null,
       "grid_auto_flow": null,
       "grid_auto_rows": null,
       "grid_column": null,
       "grid_gap": null,
       "grid_row": null,
       "grid_template_areas": null,
       "grid_template_columns": null,
       "grid_template_rows": null,
       "height": null,
       "justify_content": null,
       "justify_items": null,
       "left": null,
       "margin": null,
       "max_height": null,
       "max_width": null,
       "min_height": null,
       "min_width": null,
       "object_fit": null,
       "object_position": null,
       "order": null,
       "overflow": null,
       "overflow_x": null,
       "overflow_y": null,
       "padding": null,
       "right": null,
       "top": null,
       "visibility": null,
       "width": null
      }
     },
     "f72cbcebafb6455480faf84e39eaa1c0": {
      "model_module": "@jupyter-widgets/controls",
      "model_module_version": "1.5.0",
      "model_name": "HTMLModel",
      "state": {
       "_dom_classes": [],
       "_model_module": "@jupyter-widgets/controls",
       "_model_module_version": "1.5.0",
       "_model_name": "HTMLModel",
       "_view_count": null,
       "_view_module": "@jupyter-widgets/controls",
       "_view_module_version": "1.5.0",
       "_view_name": "HTMLView",
       "description": "",
       "description_tooltip": null,
       "layout": "IPY_MODEL_1a8dc3c3b7e14a968157160537748e73",
       "placeholder": "​",
       "style": "IPY_MODEL_aa3de6acdd4c44278d86f7526615e70e",
       "value": ""
      }
     },
     "f80997a53bec4d7487692573f4b74007": {
      "model_module": "@jupyter-widgets/controls",
      "model_module_version": "1.5.0",
      "model_name": "DescriptionStyleModel",
      "state": {
       "_model_module": "@jupyter-widgets/controls",
       "_model_module_version": "1.5.0",
       "_model_name": "DescriptionStyleModel",
       "_view_count": null,
       "_view_module": "@jupyter-widgets/base",
       "_view_module_version": "1.2.0",
       "_view_name": "StyleView",
       "description_width": ""
      }
     },
     "fa85cedff6a844b288adfd827f44779e": {
      "model_module": "@jupyter-widgets/controls",
      "model_module_version": "1.5.0",
      "model_name": "DescriptionStyleModel",
      "state": {
       "_model_module": "@jupyter-widgets/controls",
       "_model_module_version": "1.5.0",
       "_model_name": "DescriptionStyleModel",
       "_view_count": null,
       "_view_module": "@jupyter-widgets/base",
       "_view_module_version": "1.2.0",
       "_view_name": "StyleView",
       "description_width": ""
      }
     },
     "fc2926ccb4e341458e9672fba4a3d9ed": {
      "model_module": "@jupyter-widgets/controls",
      "model_module_version": "1.5.0",
      "model_name": "DescriptionStyleModel",
      "state": {
       "_model_module": "@jupyter-widgets/controls",
       "_model_module_version": "1.5.0",
       "_model_name": "DescriptionStyleModel",
       "_view_count": null,
       "_view_module": "@jupyter-widgets/base",
       "_view_module_version": "1.2.0",
       "_view_name": "StyleView",
       "description_width": ""
      }
     }
    },
    "version_major": 2,
    "version_minor": 0
   }
  }
 },
 "nbformat": 4,
 "nbformat_minor": 5
}
